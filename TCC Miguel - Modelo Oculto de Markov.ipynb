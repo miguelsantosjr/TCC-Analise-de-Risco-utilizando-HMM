{
 "cells": [
  {
   "cell_type": "markdown",
   "metadata": {
    "tags": []
   },
   "source": [
    "# Análise de Risco de Contribuintes utilizando Modelo Oculto de Markov (HMM)\n",
    "### Trabalho de Conclusão de Curso do Curso de Pós-graduação em Ciência de Dados e Big Data - PUCMINAS <br> Autor: Miguel Castro dos Santos Junior"
   ]
  },
  {
   "cell_type": "markdown",
   "metadata": {},
   "source": [
    "### OBTENÇÃO, TRATAMENTO DOS DADOS E ANÁLISE DO MODELO HMM"
   ]
  },
  {
   "cell_type": "markdown",
   "metadata": {},
   "source": [
    "### Inicialização de Bibiliotecas e configuração de ambiente do Jupyter"
   ]
  },
  {
   "cell_type": "code",
   "execution_count": 1,
   "metadata": {},
   "outputs": [],
   "source": [
    "import pandas as pd\n",
    "import numpy as np\n",
    "import datetime as dt\n",
    "import matplotlib.pyplot as plt\n",
    "import seaborn as sns\n",
    "import csv\n",
    "import locale\n",
    "import sqlite3\n",
    "locale.setlocale(locale.LC_ALL, 'pt_BR.UTF-8')\n",
    "pd.set_option(\"float_format\",  lambda x: locale.format_string('%.2f', x, grouping=True))\n",
    "#limite de colunas para impressão apenas, substituir por None para remover limite\n",
    "pd.set_option('max_columns', 10)"
   ]
  },
  {
   "cell_type": "markdown",
   "metadata": {},
   "source": [
    "### Carga dos dados da Base de Dados da Dívida Ativa"
   ]
  },
  {
   "cell_type": "code",
   "execution_count": 2,
   "metadata": {},
   "outputs": [],
   "source": [
    "f = lambda s: dt.datetime.strptime(s,'%d/%m/%Y')\n",
    "f1 = r'C:\\Users\\49026461534\\Documents\\_Pos Big Data\\TCC\\arquivo_lai_SIDA_BA_202012.csv'\n",
    "f2 = r'C:\\Users\\49026461534\\Documents\\_Pos Big Data\\TCC\\arquivo_lai_SIDA_SE_202012.csv'\n",
    "f3 = r'C:\\Users\\49026461534\\Documents\\_Pos Big Data\\TCC\\arquivo_lai_PREV_BA_202012.csv'\n",
    "f4 = r'C:\\Users\\49026461534\\Documents\\_Pos Big Data\\TCC\\arquivo_lai_PREV_SE_202012.csv'\n",
    "df1 = pd.read_csv (f1, sep=';', encoding='latin-1',thousands=',', decimal='.', \n",
    "                   dtype={\"NUMERO_INSCRICAO\":np.int64}, parse_dates=['DATA_INSCRICAO'], date_parser=f)\n",
    "df2 = pd.read_csv (f2, sep=';', encoding='latin-1',thousands=',', decimal='.', \n",
    "                   dtype={\"NUMERO_INSCRICAO\":np.int64}, parse_dates=['DATA_INSCRICAO'], date_parser=f)\n",
    "df3 = pd.read_csv (f3, sep=';', encoding='latin-1',thousands=',', decimal='.', \n",
    "                   dtype={\"NUMERO_INSCRICAO\":np.int64}, parse_dates=['DATA_INSCRICAO'], date_parser=f)\n",
    "df4 = pd.read_csv (f4, sep=';', encoding='latin-1',thousands=',', decimal='.', \n",
    "                   dtype={\"NUMERO_INSCRICAO\":np.int64}, parse_dates=['DATA_INSCRICAO'], date_parser=f)\n",
    "df = pd.concat([df1,df2,df3,df4], axis=0, ignore_index=True)\n",
    "del df1,df2,df3,df4\n",
    "df['CPF_CNPJ'].replace('\\.|\\/|\\-','',regex=True, inplace=True)\n",
    "df.insert(0,'CNPJ8',df['CPF_CNPJ'].str[:8])"
   ]
  },
  {
   "cell_type": "markdown",
   "metadata": {},
   "source": [
    "### Tratamento inicial da Base de Dados da Dívida "
   ]
  },
  {
   "cell_type": "code",
   "execution_count": 3,
   "metadata": {},
   "outputs": [
    {
     "data": {
      "text/plain": [
       "516306"
      ]
     },
     "execution_count": 3,
     "metadata": {},
     "output_type": "execute_result"
    }
   ],
   "source": [
    "dfd = df[(df.TIPO_PESSOA == 'Pessoa jurídica') & (df.TIPO_DEVEDOR=='PRINCIPAL') \n",
    "         & (df.VALOR_CONSOLIDADO!=0) & (df.NOME_DEVEDOR!='SEM INFORMACAO')]\n",
    "dfd = dfd.drop(['TIPO_PESSOA','TIPO_DEVEDOR', 'UNIDADE_RESPONSAVEL', 'TIPO_CREDITO', 'RECEITA_PRINCIPAL'], axis=1)\n",
    "dfd.rename(columns={'UF_UNIDADE_RESPONSAVEL': 'UF','INDICADOR_AJUIZADO':'AJUIZADO', \n",
    "                    'VALOR_CONSOLIDADO':'VALOR'}, inplace=True)\n",
    "dfd['NUMERO_INSCRICAO'] = dfd['NUMERO_INSCRICAO'].astype(str)\n",
    "dfd['trimestre'] = pd.PeriodIndex(dfd['DATA_INSCRICAO'], freq='Q')\n",
    "dfd.sort_values(by=['CNPJ8','DATA_INSCRICAO'], inplace=True)\n",
    "dfd.dropna(inplace=True)\n",
    "dfd=dfd.astype({'CNPJ8': 'string', 'CPF_CNPJ': 'string' , 'NOME_DEVEDOR': 'string', \n",
    "                'DATA_INSCRICAO':'datetime64[ns]', 'UF': 'string','NUMERO_INSCRICAO': 'int64',\n",
    "                'TIPO_SITUACAO_INSCRICAO': 'string', 'SITUACAO_INSCRICAO': 'string', 'AJUIZADO': 'string'})\n",
    "dfd.NUMERO_INSCRICAO.count()"
   ]
  },
  {
   "cell_type": "code",
   "execution_count": 4,
   "metadata": {},
   "outputs": [
    {
     "name": "stdout",
     "output_type": "stream",
     "text": [
      "Valor Total da Dívida BA/SE: R$ 59.187.455.235,09\n"
     ]
    }
   ],
   "source": [
    "print(\"Valor Total da Dívida BA/SE:\", locale.currency(dfd.VALOR.sum(), grouping=True))"
   ]
  },
  {
   "cell_type": "code",
   "execution_count": 5,
   "metadata": {},
   "outputs": [
    {
     "name": "stdout",
     "output_type": "stream",
     "text": [
      "Número de Contribuintes BA/SE com inscrição em Dívida Ativa:  144.604\n"
     ]
    }
   ],
   "source": [
    "cnpjs = dfd['CNPJ8']\n",
    "cnpjs.drop_duplicates(keep='first', inplace=True)\n",
    "print(\"Número de Contribuintes BA/SE com inscrição em Dívida Ativa: \", locale.format_string('%d',cnpjs.count(), grouping=True))"
   ]
  },
  {
   "cell_type": "markdown",
   "metadata": {},
   "source": [
    "### Tratamento inicial da Base CNPJ e filtragem dos contribuintes com inscrição"
   ]
  },
  {
   "cell_type": "code",
   "execution_count": 6,
   "metadata": {},
   "outputs": [],
   "source": [
    "conn = sqlite3.connect(\"e:\\TCC\\TCC.db\")\n",
    "conn.execute(\"DROP TABLE IF EXISTS divida\")\n",
    "#dfd['trimestre'] = dfd['trimestre'].astype(str)\n",
    "cnpjs.to_sql(\"divida\", conn, if_exists=\"append\")\n",
    "conn.execute(\"CREATE INDEX CNPJ8 ON divida(CNPJ8)\")\n",
    "conn.close()"
   ]
  },
  {
   "cell_type": "code",
   "execution_count": 7,
   "metadata": {},
   "outputs": [
    {
     "data": {
      "text/plain": [
       "144604"
      ]
     },
     "execution_count": 7,
     "metadata": {},
     "output_type": "execute_result"
    }
   ],
   "source": [
    "conn = sqlite3.connect(\"e:\\TCC\\TCC.db\")\n",
    "dfc = pd.read_sql_query(''' select distinct cnpj, situacao, data_situacao, motivo_situacao, capital_social, porte, cnae_fiscal \n",
    "                            from empresas\n",
    "                            inner join divida on divida.CNPJ8=substr(empresas.cnpj,1,8)\n",
    "                            where matriz_filial=01\n",
    "                            ; '''\n",
    "                            , conn)\n",
    "conn.close()\n",
    "dfc=dfc.astype({'cnpj': 'string', 'situacao': 'int64' , 'data_situacao': 'datetime64[ns]', 'motivo_situacao': 'int64', \n",
    "                'capital_social': 'float', 'porte': 'int64', 'cnae_fiscal': 'int64'})\n",
    "dfc.insert(0,'CNPJ8',dfc['cnpj'].str[:8])\n",
    "dfc = dfc.drop(['cnpj'], axis=1)\n",
    "dfc['capital_social'].fillna(value=0.0, inplace=True)\n",
    "dfc.CNPJ8.count()"
   ]
  },
  {
   "cell_type": "markdown",
   "metadata": {},
   "source": [
    "### Combinação de Bases da Dívida e do CNPJ"
   ]
  },
  {
   "cell_type": "code",
   "execution_count": 8,
   "metadata": {},
   "outputs": [],
   "source": [
    "# Combinação de bases de dados Dívida e CNPJ\n",
    "dfd = pd.merge(dfd, dfc, how='left', on='CNPJ8')"
   ]
  },
  {
   "cell_type": "markdown",
   "metadata": {},
   "source": [
    "### Processamento para geração das Classificações de Riscos dos Contribuintes"
   ]
  },
  {
   "cell_type": "code",
   "execution_count": 9,
   "metadata": {},
   "outputs": [
    {
     "data": {
      "text/plain": [
       "<seaborn.axisgrid.FacetGrid at 0x28f2dae4780>"
      ]
     },
     "execution_count": 9,
     "metadata": {},
     "output_type": "execute_result"
    },
    {
     "data": {
      "image/png": "[encoded data removed]",
      "text/plain": [
       "<Figure size 686.6x360 with 1 Axes>"
      ]
     },
     "metadata": {
      "needs_background": "light"
     },
     "output_type": "display_data"
    }
   ],
   "source": [
    "pesos_s = {'Em cobrança':0.4, 'Em negociação':0.3, 'Suspenso por decisão judicial':0.2,\n",
    "           'Garantia':0.1, 'Benefício Fiscal':0.1}\n",
    "pesos_i = {'até 1 ano': 0.1,'1 a 5 anos':0.2, 'mais de 5 anos': 0.3}\n",
    "pesos_d = {'até 100 mil': 0,'100 a 1 milhão': 200,'1 a 2 milhões': 400,'2 a 10 milhões': 800, \n",
    "           '10 a 100 milhões': 1200, 'mais de 100 milhões': 1500}\n",
    "pesos_a = {'SIM':0.1, 'NAO':0.2}\n",
    "pesos_c = {'menor 30%':0, '30 a 100%': 200, 'mais de 100%':500}\n",
    "dfd['acumulado'] = dfd.groupby(['CNPJ8','NOME_DEVEDOR'])['VALOR'].cumsum()\n",
    "dfd['sit_p'] = dfd.apply(lambda x:x.VALOR * pesos_s[x.TIPO_SITUACAO_INSCRICAO], axis=1)\n",
    "dfd['sit_p_acum'] = dfd.groupby(['CNPJ8','NOME_DEVEDOR'])['sit_p'].cumsum()\n",
    "dfd['anos'] = round((dt.datetime.today()-dfd['DATA_INSCRICAO'])/dt.timedelta(365,5,49,12),2)\n",
    "dfd['idade_c'] = pd.cut(dfd['anos'],bins=[0,1,5,5000],labels=pesos_i.values(),include_lowest=True)\n",
    "dfd['idade_p'] = dfd.apply(lambda x:x.VALOR * x.idade_c, axis=1)\n",
    "dfd['idade_p_acum'] = dfd.groupby(['CNPJ8','NOME_DEVEDOR'])['idade_p'].cumsum()\n",
    "dfd['sit_s'] = dfd.apply(lambda x:round(x.sit_p_acum / x.acumulado *500), axis=1)\n",
    "dfd['idade_s'] = dfd.apply(lambda x:round(x.idade_p_acum / x.acumulado *500), axis=1)\n",
    "dfd['acum_s'] = pd.cut(dfd['acumulado'],bins=[0,100000,1000000,2000000,10000000, 100000000,float(\"inf\")],\n",
    "                       labels=pesos_d.values(),include_lowest=True)\n",
    "dfd['ajuiz_c'] = dfd['AJUIZADO'].replace(pesos_a)\n",
    "dfd['ajuiz_p'] = dfd.apply(lambda x:x.VALOR * x.ajuiz_c, axis=1)\n",
    "dfd['ajuiz_p_acum'] = dfd.groupby(['CNPJ8','NOME_DEVEDOR'])['ajuiz_p'].cumsum()\n",
    "dfd['ajuiz_s'] = dfd.apply(lambda x:round(x.ajuiz_p_acum / x.acumulado *1000), axis=1)\n",
    "dfd['capital_p']= dfd.apply(lambda x:0 if x.capital_social==0.0 else round((x.acumulado / x.capital_social * 100)), axis=1)\n",
    "dfd['capital_s'] = pd.cut(dfd['capital_p'],bins=[0,30,100,float(\"inf\")],labels=pesos_c.values(),include_lowest=True)\n",
    "dfd['score'] = dfd[['acum_s','idade_s','sit_s','ajuiz_s','capital_s']].sum(axis=1)\n",
    "dfd['classe1'] = pd.cut(dfd['score'],bins=[0,500,1000,1500,2000,float(\"inf\")],labels=[0,1,2,3,4],include_lowest=True)\n",
    "dfd['classe'] = dfd.apply(lambda x:5 if ((x.data_situacao < x.DATA_INSCRICAO) and (x.situacao!=2))*1 else x.classe1, axis=1)\n",
    "# Gráfico com distribuição das classificações em função do score\n",
    "plt.rcParams.update({'font.size': 11})\n",
    "sns.displot(dfd,x='score', hue='classe',bins=5, height=5, aspect=16/9, palette=\"Set2\")"
   ]
  },
  {
   "cell_type": "markdown",
   "metadata": {},
   "source": [
    "### Análise Exploratória da Base da Dívida Ativa (Geral)"
   ]
  },
  {
   "cell_type": "code",
   "execution_count": 10,
   "metadata": {},
   "outputs": [
    {
     "data": {
      "text/plain": [
       "<seaborn.axisgrid.FacetGrid at 0x28f1ed175c0>"
      ]
     },
     "execution_count": 10,
     "metadata": {},
     "output_type": "execute_result"
    },
    {
     "data": {
      "image/png": "[encoded data removed]",
      "text/plain": [
       "<Figure size 686.6x360 with 1 Axes>"
      ]
     },
     "metadata": {
      "needs_background": "light"
     },
     "output_type": "display_data"
    }
   ],
   "source": [
    "dfg=dfd.groupby([dfd.DATA_INSCRICAO.dt.year,dfd.classe])[['NUMERO_INSCRICAO']].count().reset_index()\n",
    "dfg\n",
    "sns.relplot(x='DATA_INSCRICAO', y='NUMERO_INSCRICAO', kind=\"line\", palette=\"Set2\", \n",
    "            data=dfg, height=5, aspect=16/9, hue='classe')"
   ]
  },
  {
   "cell_type": "code",
   "execution_count": 11,
   "metadata": {},
   "outputs": [
    {
     "data": {
      "text/plain": [
       "<seaborn.axisgrid.FacetGrid at 0x28f1e6e1fd0>"
      ]
     },
     "execution_count": 11,
     "metadata": {},
     "output_type": "execute_result"
    },
    {
     "data": {
      "image/png": "[encoded data removed]",
      "text/plain": [
       "<Figure size 640x360 with 1 Axes>"
      ]
     },
     "metadata": {
      "needs_background": "light"
     },
     "output_type": "display_data"
    }
   ],
   "source": [
    "# Evolução da Dívida\n",
    "dfg=dfd.groupby([dfd.DATA_INSCRICAO.dt.year,dfd.classe])[['VALOR']].sum().reset_index()\n",
    "sns.relplot(x='DATA_INSCRICAO', y=\"VALOR\", kind=\"line\", palette=\"Set2\", data=dfg, height=5, aspect=16/9)\n",
    "#dfg.groupby(dfg.DATA_INSCRICAO)[['VALOR']].sum().reset_index()"
   ]
  },
  {
   "cell_type": "code",
   "execution_count": 53,
   "metadata": {},
   "outputs": [
    {
     "data": {
      "text/html": [
       "<div>\n",
       "<style scoped>\n",
       "    .dataframe tbody tr th:only-of-type {\n",
       "        vertical-align: middle;\n",
       "    }\n",
       "\n",
       "    .dataframe tbody tr th {\n",
       "        vertical-align: top;\n",
       "    }\n",
       "\n",
       "    .dataframe thead th {\n",
       "        text-align: right;\n",
       "    }\n",
       "</style>\n",
       "<table border=\"1\" class=\"dataframe\">\n",
       "  <thead>\n",
       "    <tr style=\"text-align: right;\">\n",
       "      <th></th>\n",
       "      <th>TIPO_SITUACAO_INSCRICAO</th>\n",
       "      <th>VALOR</th>\n",
       "    </tr>\n",
       "  </thead>\n",
       "  <tbody>\n",
       "    <tr>\n",
       "      <th>1</th>\n",
       "      <td>Em cobrança</td>\n",
       "      <td>45.809.368.550,75</td>\n",
       "    </tr>\n",
       "    <tr>\n",
       "      <th>0</th>\n",
       "      <td>Benefício Fiscal</td>\n",
       "      <td>5.953.233.712,52</td>\n",
       "    </tr>\n",
       "    <tr>\n",
       "      <th>3</th>\n",
       "      <td>Garantia</td>\n",
       "      <td>5.117.663.551,07</td>\n",
       "    </tr>\n",
       "    <tr>\n",
       "      <th>4</th>\n",
       "      <td>Suspenso por decisão judicial</td>\n",
       "      <td>2.285.088.081,67</td>\n",
       "    </tr>\n",
       "    <tr>\n",
       "      <th>2</th>\n",
       "      <td>Em negociação</td>\n",
       "      <td>22.101.339,08</td>\n",
       "    </tr>\n",
       "  </tbody>\n",
       "</table>\n",
       "</div>"
      ],
      "text/plain": [
       "         TIPO_SITUACAO_INSCRICAO             VALOR\n",
       "1                    Em cobrança 45.809.368.550,75\n",
       "0               Benefício Fiscal  5.953.233.712,52\n",
       "3                       Garantia  5.117.663.551,07\n",
       "4  Suspenso por decisão judicial  2.285.088.081,67\n",
       "2                  Em negociação     22.101.339,08"
      ]
     },
     "execution_count": 53,
     "metadata": {},
     "output_type": "execute_result"
    },
    {
     "data": {
      "image/png": "[encoded data removed]",
      "text/plain": [
       "<Figure size 640x360 with 1 Axes>"
      ]
     },
     "metadata": {
      "needs_background": "light"
     },
     "output_type": "display_data"
    }
   ],
   "source": [
    "# Valor da dívida por situação\n",
    "dfg=dfd.groupby([dfd.TIPO_SITUACAO_INSCRICAO])[['VALOR']].sum().reset_index()\n",
    "sns.catplot(x='TIPO_SITUACAO_INSCRICAO', y=\"VALOR\", kind=\"bar\", palette=\"Set2\", data=dfg, height=5, aspect=16/9)\n",
    "dfg.sort_values(['VALOR'],ascending=False)"
   ]
  },
  {
   "cell_type": "code",
   "execution_count": 54,
   "metadata": {},
   "outputs": [
    {
     "data": {
      "image/png": "[encoded data removed]",
      "text/plain": [
       "<Figure size 432x432 with 1 Axes>"
      ]
     },
     "metadata": {},
     "output_type": "display_data"
    }
   ],
   "source": [
    "# Gráfico de Pizza para valor da Dívida por Situação\n",
    "colors = sns.color_palette('Set2')[0:5]\n",
    "explode = (0.1, 0, 0.1, 0.1, 0.1)\n",
    "plt.figure(figsize=(6,6))\n",
    "plt.rcParams.update({'font.size': 12})\n",
    "plt.pie(x = dfg.VALOR, labels = dfg.TIPO_SITUACAO_INSCRICAO, colors = colors, \n",
    "        explode = explode, autopct='%.0f%%', shadow=True, startangle=50)\n",
    "plt.show()\n",
    "plt.rcParams.update({'font.size': 11})"
   ]
  },
  {
   "cell_type": "code",
   "execution_count": 55,
   "metadata": {},
   "outputs": [],
   "source": [
    "# Testes e analise de resultados\n",
    "#colunas = [\"DATA_INSCRICAO\",\"acumulado\",\"anos\",\"idade_c\",\"idade_p\", \"idade_p_acum\",\"idade_s\"]\n",
    "#dfd.query('CNPJ8 == \"00062617\"').sort_values(by=['CNPJ8', \"DATA_INSCRICAO\"])[colunas]"
   ]
  },
  {
   "cell_type": "code",
   "execution_count": 56,
   "metadata": {},
   "outputs": [
    {
     "data": {
      "text/plain": [
       "516306"
      ]
     },
     "execution_count": 56,
     "metadata": {},
     "output_type": "execute_result"
    },
    {
     "data": {
      "image/png": "[encoded data removed]",
      "text/plain": [
       "<Figure size 686.6x360 with 1 Axes>"
      ]
     },
     "metadata": {
      "needs_background": "light"
     },
     "output_type": "display_data"
    }
   ],
   "source": [
    "colunas = ['NOME_DEVEDOR','DATA_INSCRICAO','data_situacao', 'situacao', 'VALOR','acumulado','score','classe','classe1']\n",
    "dfd2=dfd.groupby(['CNPJ8','trimestre'])[colunas].last().reset_index()\n",
    "sns.displot(dfd,x='score', hue='classe',bins=7, height=5, aspect=16/9, palette=\"Set2\" )\n",
    "dfd.CNPJ8.count()"
   ]
  },
  {
   "cell_type": "code",
   "execution_count": 57,
   "metadata": {},
   "outputs": [
    {
     "data": {
      "text/plain": [
       "<seaborn.axisgrid.FacetGrid at 0x28f2019cc18>"
      ]
     },
     "execution_count": 57,
     "metadata": {},
     "output_type": "execute_result"
    },
    {
     "data": {
      "image/png": "[encoded data removed]",
      "text/plain": [
       "<Figure size 640x360 with 1 Axes>"
      ]
     },
     "metadata": {
      "needs_background": "light"
     },
     "output_type": "display_data"
    }
   ],
   "source": [
    "sns.catplot(x=\"classe\", kind=\"count\", palette=\"Set2\", data=dfd, height=5, aspect=16/9)"
   ]
  },
  {
   "cell_type": "code",
   "execution_count": 58,
   "metadata": {},
   "outputs": [
    {
     "name": "stdout",
     "output_type": "stream",
     "text": [
      "284791\n"
     ]
    },
    {
     "data": {
      "text/html": [
       "<div>\n",
       "<style scoped>\n",
       "    .dataframe tbody tr th:only-of-type {\n",
       "        vertical-align: middle;\n",
       "    }\n",
       "\n",
       "    .dataframe tbody tr th {\n",
       "        vertical-align: top;\n",
       "    }\n",
       "\n",
       "    .dataframe thead th {\n",
       "        text-align: right;\n",
       "    }\n",
       "</style>\n",
       "<table border=\"1\" class=\"dataframe\">\n",
       "  <thead>\n",
       "    <tr style=\"text-align: right;\">\n",
       "      <th></th>\n",
       "      <th>classe</th>\n",
       "      <th>n_estados</th>\n",
       "    </tr>\n",
       "  </thead>\n",
       "  <tbody>\n",
       "    <tr>\n",
       "      <th>0</th>\n",
       "      <td>0</td>\n",
       "      <td>142151</td>\n",
       "    </tr>\n",
       "    <tr>\n",
       "      <th>1</th>\n",
       "      <td>1</td>\n",
       "      <td>106651</td>\n",
       "    </tr>\n",
       "    <tr>\n",
       "      <th>5</th>\n",
       "      <td>5</td>\n",
       "      <td>20057</td>\n",
       "    </tr>\n",
       "    <tr>\n",
       "      <th>2</th>\n",
       "      <td>2</td>\n",
       "      <td>11496</td>\n",
       "    </tr>\n",
       "    <tr>\n",
       "      <th>3</th>\n",
       "      <td>3</td>\n",
       "      <td>3949</td>\n",
       "    </tr>\n",
       "    <tr>\n",
       "      <th>4</th>\n",
       "      <td>4</td>\n",
       "      <td>487</td>\n",
       "    </tr>\n",
       "  </tbody>\n",
       "</table>\n",
       "</div>"
      ],
      "text/plain": [
       "   classe  n_estados\n",
       "0       0     142151\n",
       "1       1     106651\n",
       "5       5      20057\n",
       "2       2      11496\n",
       "3       3       3949\n",
       "4       4        487"
      ]
     },
     "execution_count": 58,
     "metadata": {},
     "output_type": "execute_result"
    },
    {
     "data": {
      "image/png": "[encoded data removed]",
      "text/plain": [
       "<Figure size 640x360 with 1 Axes>"
      ]
     },
     "metadata": {
      "needs_background": "light"
     },
     "output_type": "display_data"
    }
   ],
   "source": [
    "# Gráfico de barras de quantidade de contribuintes por Classe\n",
    "dfg=dfd2.groupby([dfd2.classe])[['CNPJ8']].count().reset_index()\n",
    "dfg.rename(columns = {'CNPJ8': 'n_estados'}, inplace = True)\n",
    "print(dfd2.NOME_DEVEDOR.count())\n",
    "sns.catplot(x='classe', y='n_estados', kind=\"bar\", palette=\"Set2\", data=dfg, height=5, aspect=16/9)\n",
    "dfg.sort_values([\"n_estados\"],ascending=False)"
   ]
  },
  {
   "cell_type": "markdown",
   "metadata": {},
   "source": [
    "### Criação dos Dataframes organizados para os Modelos de Machine Learning"
   ]
  },
  {
   "cell_type": "code",
   "execution_count": 67,
   "metadata": {},
   "outputs": [
    {
     "data": {
      "text/html": [
       "<div>\n",
       "<style scoped>\n",
       "    .dataframe tbody tr th:only-of-type {\n",
       "        vertical-align: middle;\n",
       "    }\n",
       "\n",
       "    .dataframe tbody tr th {\n",
       "        vertical-align: top;\n",
       "    }\n",
       "\n",
       "    .dataframe thead th {\n",
       "        text-align: right;\n",
       "    }\n",
       "</style>\n",
       "<table border=\"1\" class=\"dataframe\">\n",
       "  <thead>\n",
       "    <tr style=\"text-align: right;\">\n",
       "      <th></th>\n",
       "      <th>CNPJ8</th>\n",
       "      <th>estados</th>\n",
       "    </tr>\n",
       "  </thead>\n",
       "  <tbody>\n",
       "    <tr>\n",
       "      <th>0</th>\n",
       "      <td>00000000</td>\n",
       "      <td>[1]</td>\n",
       "    </tr>\n",
       "    <tr>\n",
       "      <th>1</th>\n",
       "      <td>00002121</td>\n",
       "      <td>[1, 1, 3, 3, 3, 3, 3, 3, 3, 3, 3]</td>\n",
       "    </tr>\n",
       "    <tr>\n",
       "      <th>2</th>\n",
       "      <td>00055849</td>\n",
       "      <td>[1]</td>\n",
       "    </tr>\n",
       "    <tr>\n",
       "      <th>3</th>\n",
       "      <td>00055870</td>\n",
       "      <td>[0, 0, 0]</td>\n",
       "    </tr>\n",
       "    <tr>\n",
       "      <th>4</th>\n",
       "      <td>00056138</td>\n",
       "      <td>[1]</td>\n",
       "    </tr>\n",
       "    <tr>\n",
       "      <th>...</th>\n",
       "      <td>...</td>\n",
       "      <td>...</td>\n",
       "    </tr>\n",
       "    <tr>\n",
       "      <th>450</th>\n",
       "      <td>00116332</td>\n",
       "      <td>[0]</td>\n",
       "    </tr>\n",
       "    <tr>\n",
       "      <th>451</th>\n",
       "      <td>00116337</td>\n",
       "      <td>[1]</td>\n",
       "    </tr>\n",
       "    <tr>\n",
       "      <th>452</th>\n",
       "      <td>00116804</td>\n",
       "      <td>[1, 1]</td>\n",
       "    </tr>\n",
       "    <tr>\n",
       "      <th>453</th>\n",
       "      <td>00116952</td>\n",
       "      <td>[0]</td>\n",
       "    </tr>\n",
       "    <tr>\n",
       "      <th>454</th>\n",
       "      <td>00116965</td>\n",
       "      <td>[0]</td>\n",
       "    </tr>\n",
       "  </tbody>\n",
       "</table>\n",
       "<p>455 rows × 2 columns</p>\n",
       "</div>"
      ],
      "text/plain": [
       "        CNPJ8                            estados\n",
       "0    00000000                                [1]\n",
       "1    00002121  [1, 1, 3, 3, 3, 3, 3, 3, 3, 3, 3]\n",
       "2    00055849                                [1]\n",
       "3    00055870                          [0, 0, 0]\n",
       "4    00056138                                [1]\n",
       "..        ...                                ...\n",
       "450  00116332                                [0]\n",
       "451  00116337                                [1]\n",
       "452  00116804                             [1, 1]\n",
       "453  00116952                                [0]\n",
       "454  00116965                                [0]\n",
       "\n",
       "[455 rows x 2 columns]"
      ]
     },
     "execution_count": 67,
     "metadata": {},
     "output_type": "execute_result"
    }
   ],
   "source": [
    "# Criação de Dataframe com as Classificações de Risco de cada contribuinte em uma lista\n",
    "dfe=dfd2.groupby('CNPJ8')['classe'].apply(list).reset_index()\n",
    "dfe.rename(columns = {'classe': 'estados'}, inplace = True)\n",
    "dfe.head(455)"
   ]
  },
  {
   "cell_type": "code",
   "execution_count": 60,
   "metadata": {},
   "outputs": [
    {
     "data": {
      "text/html": [
       "<div>\n",
       "<style scoped>\n",
       "    .dataframe tbody tr th:only-of-type {\n",
       "        vertical-align: middle;\n",
       "    }\n",
       "\n",
       "    .dataframe tbody tr th {\n",
       "        vertical-align: top;\n",
       "    }\n",
       "\n",
       "    .dataframe thead th {\n",
       "        text-align: right;\n",
       "    }\n",
       "</style>\n",
       "<table border=\"1\" class=\"dataframe\">\n",
       "  <thead>\n",
       "    <tr style=\"text-align: right;\">\n",
       "      <th></th>\n",
       "      <th>CNPJ8</th>\n",
       "      <th>situacao</th>\n",
       "      <th>data_situacao</th>\n",
       "      <th>motivo_situacao</th>\n",
       "      <th>capital_social</th>\n",
       "      <th>...</th>\n",
       "      <th>acumulado</th>\n",
       "      <th>score</th>\n",
       "      <th>classe</th>\n",
       "      <th>estados</th>\n",
       "      <th>n_estados</th>\n",
       "    </tr>\n",
       "  </thead>\n",
       "  <tbody>\n",
       "    <tr>\n",
       "      <th>0</th>\n",
       "      <td>00000000</td>\n",
       "      <td>2</td>\n",
       "      <td>2005-11-03</td>\n",
       "      <td>0</td>\n",
       "      <td>6.700.000.000.000,00</td>\n",
       "      <td>...</td>\n",
       "      <td>352.971,03</td>\n",
       "      <td>600</td>\n",
       "      <td>1</td>\n",
       "      <td>[1]</td>\n",
       "      <td>1</td>\n",
       "    </tr>\n",
       "    <tr>\n",
       "      <th>1</th>\n",
       "      <td>00002121</td>\n",
       "      <td>2</td>\n",
       "      <td>2018-10-15</td>\n",
       "      <td>0</td>\n",
       "      <td>580.000.000,00</td>\n",
       "      <td>...</td>\n",
       "      <td>36.483.860,32</td>\n",
       "      <td>1650</td>\n",
       "      <td>3</td>\n",
       "      <td>[1, 1, 3, 3, 3, 3, 3, 3, 3, 3, 3]</td>\n",
       "      <td>11</td>\n",
       "    </tr>\n",
       "    <tr>\n",
       "      <th>2</th>\n",
       "      <td>00055849</td>\n",
       "      <td>4</td>\n",
       "      <td>2018-10-25</td>\n",
       "      <td>63</td>\n",
       "      <td>1.000.000,00</td>\n",
       "      <td>...</td>\n",
       "      <td>1.615,06</td>\n",
       "      <td>550</td>\n",
       "      <td>1</td>\n",
       "      <td>[1]</td>\n",
       "      <td>1</td>\n",
       "    </tr>\n",
       "    <tr>\n",
       "      <th>3</th>\n",
       "      <td>00055870</td>\n",
       "      <td>4</td>\n",
       "      <td>2018-10-25</td>\n",
       "      <td>63</td>\n",
       "      <td>0,00</td>\n",
       "      <td>...</td>\n",
       "      <td>406.718,40</td>\n",
       "      <td>500</td>\n",
       "      <td>0</td>\n",
       "      <td>[0, 0, 0]</td>\n",
       "      <td>3</td>\n",
       "    </tr>\n",
       "    <tr>\n",
       "      <th>4</th>\n",
       "      <td>00056138</td>\n",
       "      <td>4</td>\n",
       "      <td>2018-10-25</td>\n",
       "      <td>63</td>\n",
       "      <td>0,00</td>\n",
       "      <td>...</td>\n",
       "      <td>3.530,92</td>\n",
       "      <td>550</td>\n",
       "      <td>1</td>\n",
       "      <td>[1]</td>\n",
       "      <td>1</td>\n",
       "    </tr>\n",
       "  </tbody>\n",
       "</table>\n",
       "<p>5 rows × 16 columns</p>\n",
       "</div>"
      ],
      "text/plain": [
       "      CNPJ8  situacao data_situacao  motivo_situacao       capital_social  \\\n",
       "0  00000000         2    2005-11-03                0 6.700.000.000.000,00   \n",
       "1  00002121         2    2018-10-15                0       580.000.000,00   \n",
       "2  00055849         4    2018-10-25               63         1.000.000,00   \n",
       "3  00055870         4    2018-10-25               63                 0,00   \n",
       "4  00056138         4    2018-10-25               63                 0,00   \n",
       "\n",
       "   ...     acumulado  score classe                            estados  \\\n",
       "0  ...    352.971,03    600      1                                [1]   \n",
       "1  ... 36.483.860,32   1650      3  [1, 1, 3, 3, 3, 3, 3, 3, 3, 3, 3]   \n",
       "2  ...      1.615,06    550      1                                [1]   \n",
       "3  ...    406.718,40    500      0                          [0, 0, 0]   \n",
       "4  ...      3.530,92    550      1                                [1]   \n",
       "\n",
       "  n_estados  \n",
       "0         1  \n",
       "1        11  \n",
       "2         1  \n",
       "3         3  \n",
       "4         1  \n",
       "\n",
       "[5 rows x 16 columns]"
      ]
     },
     "execution_count": 60,
     "metadata": {},
     "output_type": "execute_result"
    }
   ],
   "source": [
    "# Criação do dataframe com os dados para análise inicial\n",
    "m=r'C:\\Users\\49026461534\\Documents\\_Pos Big Data\\TCC\\DominiosSituaoCadastral.xls'\n",
    "s=r'C:\\Users\\49026461534\\Documents\\_Pos Big Data\\TCC\\DominiosSituaoCadastral.xls'\n",
    "dfm = pd.read_excel (m, sheet_name='DominiosMotivoSituaoCadastral', converters={'codigo':int})\n",
    "dfs = pd.read_excel (s, sheet_name='DominioSituacaoCadastral', converters={'codigo':int})\n",
    "dfd3 = dfd2.groupby(['CNPJ8'])[['DATA_INSCRICAO','VALOR','acumulado','score','classe']].last().reset_index()\n",
    "dfc2 = pd.merge(dfc, dfm, how='left', on='motivo_situacao')\n",
    "dfc2 = pd.merge(dfc2, dfs, how='left', on='situacao')\n",
    "dfc2 = pd.merge(dfc2, dfd3, how='left', on='CNPJ8')\n",
    "dfc2 = pd.merge(dfc2, dfe, how='left', on='CNPJ8')\n",
    "dfc2[\"n_estados\"]=dfc2.apply(lambda x: len(x.estados), axis=1)\n",
    "del dfm, dfs, dfd3\n",
    "dfc2.head(5)"
   ]
  },
  {
   "cell_type": "code",
   "execution_count": 61,
   "metadata": {},
   "outputs": [],
   "source": [
    "dfc2.to_pickle(r'C:\\Users\\49026461534\\Documents\\_Pos Big Data\\TCC\\dfc2.pkl')"
   ]
  },
  {
   "cell_type": "markdown",
   "metadata": {},
   "source": [
    "### Análise Exploratória da Base da Dívida - Específica para Classificações de Risco"
   ]
  },
  {
   "cell_type": "code",
   "execution_count": 62,
   "metadata": {},
   "outputs": [
    {
     "data": {
      "text/html": [
       "<div>\n",
       "<style scoped>\n",
       "    .dataframe tbody tr th:only-of-type {\n",
       "        vertical-align: middle;\n",
       "    }\n",
       "\n",
       "    .dataframe tbody tr th {\n",
       "        vertical-align: top;\n",
       "    }\n",
       "\n",
       "    .dataframe thead th {\n",
       "        text-align: right;\n",
       "    }\n",
       "</style>\n",
       "<table border=\"1\" class=\"dataframe\">\n",
       "  <thead>\n",
       "    <tr style=\"text-align: right;\">\n",
       "      <th></th>\n",
       "      <th>situacao_desc</th>\n",
       "      <th>CNPJ8</th>\n",
       "    </tr>\n",
       "  </thead>\n",
       "  <tbody>\n",
       "    <tr>\n",
       "      <th>0</th>\n",
       "      <td>ATIVA</td>\n",
       "      <td>82956</td>\n",
       "    </tr>\n",
       "    <tr>\n",
       "      <th>1</th>\n",
       "      <td>BAIXADA</td>\n",
       "      <td>28188</td>\n",
       "    </tr>\n",
       "    <tr>\n",
       "      <th>2</th>\n",
       "      <td>INAPTA</td>\n",
       "      <td>32396</td>\n",
       "    </tr>\n",
       "    <tr>\n",
       "      <th>3</th>\n",
       "      <td>NULA</td>\n",
       "      <td>29</td>\n",
       "    </tr>\n",
       "    <tr>\n",
       "      <th>4</th>\n",
       "      <td>SUSPENSA</td>\n",
       "      <td>1035</td>\n",
       "    </tr>\n",
       "  </tbody>\n",
       "</table>\n",
       "</div>"
      ],
      "text/plain": [
       "  situacao_desc  CNPJ8\n",
       "0         ATIVA  82956\n",
       "1       BAIXADA  28188\n",
       "2        INAPTA  32396\n",
       "3          NULA     29\n",
       "4      SUSPENSA   1035"
      ]
     },
     "execution_count": 62,
     "metadata": {},
     "output_type": "execute_result"
    }
   ],
   "source": [
    "dfc2.groupby([dfc2.situacao_desc])[['CNPJ8']].count().reset_index()\\"
   ]
  },
  {
   "cell_type": "code",
   "execution_count": 22,
   "metadata": {},
   "outputs": [
    {
     "data": {
      "text/plain": [
       "n_estados\n",
       "1     85033\n",
       "2     29048\n",
       "3     13471\n",
       "4      6735\n",
       "5      3757\n",
       "6      2167\n",
       "7      1401\n",
       "8       838\n",
       "9       584\n",
       "10      410\n",
       "11      322\n",
       "12      209\n",
       "13      149\n",
       "14       99\n",
       "15       82\n",
       "16       61\n",
       "17       63\n",
       "18       39\n",
       "19       23\n",
       "Name: CNPJ8, dtype: int64"
      ]
     },
     "execution_count": 22,
     "metadata": {},
     "output_type": "execute_result"
    }
   ],
   "source": [
    "dfc2.query(\"0 < n_estados < 20\").groupby(['n_estados'])['CNPJ8'].count()"
   ]
  },
  {
   "cell_type": "code",
   "execution_count": 23,
   "metadata": {},
   "outputs": [
    {
     "data": {
      "text/plain": [
       "<seaborn.axisgrid.FacetGrid at 0x28f1a4c19b0>"
      ]
     },
     "execution_count": 23,
     "metadata": {},
     "output_type": "execute_result"
    },
    {
     "data": {
      "image/png": "[encoded data removed]",
      "text/plain": [
       "<Figure size 686.6x360 with 1 Axes>"
      ]
     },
     "metadata": {
      "needs_background": "light"
     },
     "output_type": "display_data"
    }
   ],
   "source": [
    "# Quantidade de contribuintes por situação cadastral e porte\n",
    "sns.displot(dfc2,x='situacao_desc', hue='porte', palette=\"Set2\", height=5, aspect=16/9, multiple = 'stack')"
   ]
  },
  {
   "cell_type": "code",
   "execution_count": 24,
   "metadata": {},
   "outputs": [
    {
     "name": "stdout",
     "output_type": "stream",
     "text": [
      "144604\n"
     ]
    },
    {
     "data": {
      "text/plain": [
       "<seaborn.axisgrid.FacetGrid at 0x28f8240c518>"
      ]
     },
     "execution_count": 24,
     "metadata": {},
     "output_type": "execute_result"
    },
    {
     "data": {
      "image/png": "[encoded data removed]",
      "text/plain": [
       "<Figure size 738.35x360 with 1 Axes>"
      ]
     },
     "metadata": {
      "needs_background": "light"
     },
     "output_type": "display_data"
    }
   ],
   "source": [
    "# Quantidade de contribuintes por score e situação cadastral\n",
    "print(dfc2.CNPJ8.count())\n",
    "sns.displot(dfc2, x='classe', binwidth=1, hue='situacao_desc', height=5, aspect=16/9, multiple = 'stack')"
   ]
  },
  {
   "cell_type": "code",
   "execution_count": 25,
   "metadata": {},
   "outputs": [
    {
     "data": {
      "text/plain": [
       "<seaborn.axisgrid.FacetGrid at 0x28f1e5d6278>"
      ]
     },
     "execution_count": 25,
     "metadata": {},
     "output_type": "execute_result"
    },
    {
     "data": {
      "image/png": "[encoded data removed]",
      "text/plain": [
       "<Figure size 792x432 with 6 Axes>"
      ]
     },
     "metadata": {
      "needs_background": "light"
     },
     "output_type": "display_data"
    }
   ],
   "source": [
    "# Quantidade de Contribuintes por situação cadastral por classe\n",
    "dfg=dfc2.groupby([dfc2.classe,dfc2.situacao_desc])[['CNPJ8']].count().reset_index()\n",
    "dfg.rename(columns = {'CNPJ8': 'Contribuintes'}, inplace = True)\n",
    "dfg['%'] = 100 * dfg['Contribuintes'] / dfg.groupby('classe')['Contribuintes'].transform('sum')\n",
    "grid=sns.catplot(x='situacao_desc', y=\"%\", kind=\"bar\", col=\"classe\", palette=\"dark\", data=dfg, \n",
    "                 height=3, aspect=11/9, col_wrap=3)\n",
    "grid.set_xticklabels(rotation=45)\n",
    "#dfg.sort_values(['Contribuintes'],ascending=False)"
   ]
  },
  {
   "cell_type": "code",
   "execution_count": 26,
   "metadata": {},
   "outputs": [
    {
     "data": {
      "text/html": [
       "<div>\n",
       "<style scoped>\n",
       "    .dataframe tbody tr th:only-of-type {\n",
       "        vertical-align: middle;\n",
       "    }\n",
       "\n",
       "    .dataframe tbody tr th {\n",
       "        vertical-align: top;\n",
       "    }\n",
       "\n",
       "    .dataframe thead th {\n",
       "        text-align: right;\n",
       "    }\n",
       "</style>\n",
       "<table border=\"1\" class=\"dataframe\">\n",
       "  <thead>\n",
       "    <tr style=\"text-align: right;\">\n",
       "      <th></th>\n",
       "      <th>classe</th>\n",
       "      <th>acumulado</th>\n",
       "    </tr>\n",
       "  </thead>\n",
       "  <tbody>\n",
       "    <tr>\n",
       "      <th>3</th>\n",
       "      <td>3</td>\n",
       "      <td>27.093.281.886,85</td>\n",
       "    </tr>\n",
       "    <tr>\n",
       "      <th>2</th>\n",
       "      <td>2</td>\n",
       "      <td>9.649.308.357,23</td>\n",
       "    </tr>\n",
       "    <tr>\n",
       "      <th>1</th>\n",
       "      <td>1</td>\n",
       "      <td>9.587.470.178,88</td>\n",
       "    </tr>\n",
       "    <tr>\n",
       "      <th>5</th>\n",
       "      <td>5</td>\n",
       "      <td>7.784.942.036,92</td>\n",
       "    </tr>\n",
       "    <tr>\n",
       "      <th>4</th>\n",
       "      <td>4</td>\n",
       "      <td>3.279.840.059,13</td>\n",
       "    </tr>\n",
       "    <tr>\n",
       "      <th>0</th>\n",
       "      <td>0</td>\n",
       "      <td>1.792.612.716,08</td>\n",
       "    </tr>\n",
       "  </tbody>\n",
       "</table>\n",
       "</div>"
      ],
      "text/plain": [
       "   classe         acumulado\n",
       "3       3 27.093.281.886,85\n",
       "2       2  9.649.308.357,23\n",
       "1       1  9.587.470.178,88\n",
       "5       5  7.784.942.036,92\n",
       "4       4  3.279.840.059,13\n",
       "0       0  1.792.612.716,08"
      ]
     },
     "execution_count": 26,
     "metadata": {},
     "output_type": "execute_result"
    },
    {
     "data": {
      "image/png": "[encoded data removed]",
      "text/plain": [
       "<Figure size 640x360 with 1 Axes>"
      ]
     },
     "metadata": {
      "needs_background": "light"
     },
     "output_type": "display_data"
    }
   ],
   "source": [
    "# Valor acumulado do débito inscrito por classe\n",
    "dfg=dfc2.groupby([dfc2.classe])[['acumulado']].sum().reset_index()\n",
    "sns.catplot(x='classe', y=\"acumulado\", kind=\"bar\", palette=\"Set2\", data=dfg, height=5, aspect=16/9)\n",
    "dfg.sort_values(['acumulado'],ascending=False)"
   ]
  },
  {
   "cell_type": "code",
   "execution_count": 27,
   "metadata": {},
   "outputs": [
    {
     "data": {
      "image/png": "[encoded data removed]",
      "text/plain": [
       "<Figure size 432x432 with 1 Axes>"
      ]
     },
     "metadata": {},
     "output_type": "display_data"
    },
    {
     "data": {
      "text/html": [
       "<div>\n",
       "<style scoped>\n",
       "    .dataframe tbody tr th:only-of-type {\n",
       "        vertical-align: middle;\n",
       "    }\n",
       "\n",
       "    .dataframe tbody tr th {\n",
       "        vertical-align: top;\n",
       "    }\n",
       "\n",
       "    .dataframe thead th {\n",
       "        text-align: right;\n",
       "    }\n",
       "</style>\n",
       "<table border=\"1\" class=\"dataframe\">\n",
       "  <thead>\n",
       "    <tr style=\"text-align: right;\">\n",
       "      <th></th>\n",
       "      <th>situacao_desc</th>\n",
       "      <th>acumulado</th>\n",
       "    </tr>\n",
       "  </thead>\n",
       "  <tbody>\n",
       "    <tr>\n",
       "      <th>0</th>\n",
       "      <td>ATIVA</td>\n",
       "      <td>36.514.745.419,79</td>\n",
       "    </tr>\n",
       "    <tr>\n",
       "      <th>2</th>\n",
       "      <td>INAPTA</td>\n",
       "      <td>13.316.434.955,16</td>\n",
       "    </tr>\n",
       "    <tr>\n",
       "      <th>1</th>\n",
       "      <td>BAIXADA</td>\n",
       "      <td>9.084.957.920,13</td>\n",
       "    </tr>\n",
       "    <tr>\n",
       "      <th>4</th>\n",
       "      <td>SUSPENSA</td>\n",
       "      <td>269.008.969,05</td>\n",
       "    </tr>\n",
       "    <tr>\n",
       "      <th>3</th>\n",
       "      <td>NULA</td>\n",
       "      <td>2.307.970,96</td>\n",
       "    </tr>\n",
       "  </tbody>\n",
       "</table>\n",
       "</div>"
      ],
      "text/plain": [
       "  situacao_desc         acumulado\n",
       "0         ATIVA 36.514.745.419,79\n",
       "2        INAPTA 13.316.434.955,16\n",
       "1       BAIXADA  9.084.957.920,13\n",
       "4      SUSPENSA    269.008.969,05\n",
       "3          NULA      2.307.970,96"
      ]
     },
     "execution_count": 27,
     "metadata": {},
     "output_type": "execute_result"
    }
   ],
   "source": [
    "# Gráfico de Pizza do Percentual do valor do Débito por situação cadastral\n",
    "dfg=dfc2.groupby([dfc2.situacao_desc])[['acumulado']].sum().reset_index()\n",
    "colors = sns.color_palette('Set2')[0:5]\n",
    "explode = (0.1, 0, 0, 0, 0.2)\n",
    "plt.figure(figsize=(6,6))\n",
    "plt.rcParams.update({'font.size': 12})\n",
    "plt.pie(x = dfg.acumulado, labels = dfg.situacao_desc, colors = colors, \n",
    "        explode = explode, autopct='%.0f%%', shadow=True, startangle=50)\n",
    "plt.show()\n",
    "plt.rcParams.update({'font.size': 11})\n",
    "dfg.sort_values(['acumulado'],ascending=False)"
   ]
  },
  {
   "cell_type": "markdown",
   "metadata": {},
   "source": [
    "### Análise de UnderSampling"
   ]
  },
  {
   "cell_type": "code",
   "execution_count": 28,
   "metadata": {},
   "outputs": [
    {
     "data": {
      "image/png": "[encoded data removed]",
      "text/plain": [
       "<Figure size 880x432 with 15 Axes>"
      ]
     },
     "metadata": {
      "needs_background": "light"
     },
     "output_type": "display_data"
    }
   ],
   "source": [
    "# Quantidade % de Contribuintes por n_estados por classe\n",
    "dfg=dfc2.groupby([dfc2.n_estados,dfc2.classe])[['CNPJ8']].count().reset_index()\n",
    "dfg.rename(columns = {'CNPJ8': 'Contribuintes'}, inplace = True)\n",
    "dfg['%'] = 100 * dfg['Contribuintes'] / dfg.groupby('classe')['Contribuintes'].transform('sum')\n",
    "grid=sns.catplot(x='classe', y=\"%\", kind=\"bar\", col=\"n_estados\", palette=\"dark\", \n",
    "                 data=dfg.query('0<n_estados<16'), height=2, aspect=11/9, col_wrap=5)\n",
    "#grid.set_xticklabels(rotation=45)\n",
    "#dfg.sort_values(['Contribuintes'],ascending=False)"
   ]
  },
  {
   "cell_type": "code",
   "execution_count": 73,
   "metadata": {},
   "outputs": [
    {
     "data": {
      "text/html": [
       "<div>\n",
       "<style scoped>\n",
       "    .dataframe tbody tr th:only-of-type {\n",
       "        vertical-align: middle;\n",
       "    }\n",
       "\n",
       "    .dataframe tbody tr th {\n",
       "        vertical-align: top;\n",
       "    }\n",
       "\n",
       "    .dataframe thead th {\n",
       "        text-align: right;\n",
       "    }\n",
       "</style>\n",
       "<table border=\"1\" class=\"dataframe\">\n",
       "  <thead>\n",
       "    <tr style=\"text-align: right;\">\n",
       "      <th></th>\n",
       "      <th>CNPJ8</th>\n",
       "      <th>situacao</th>\n",
       "      <th>data_situacao</th>\n",
       "      <th>motivo_situacao</th>\n",
       "      <th>capital_social</th>\n",
       "      <th>...</th>\n",
       "      <th>acumulado</th>\n",
       "      <th>score</th>\n",
       "      <th>classe</th>\n",
       "      <th>estados</th>\n",
       "      <th>n_estados</th>\n",
       "    </tr>\n",
       "  </thead>\n",
       "  <tbody>\n",
       "    <tr>\n",
       "      <th>1</th>\n",
       "      <td>00002121</td>\n",
       "      <td>2</td>\n",
       "      <td>2018-10-15</td>\n",
       "      <td>0</td>\n",
       "      <td>580.000.000,00</td>\n",
       "      <td>...</td>\n",
       "      <td>36.483.860,32</td>\n",
       "      <td>1650</td>\n",
       "      <td>3</td>\n",
       "      <td>[1, 1, 3, 3, 3, 3, 3, 3, 3, 3, 3]</td>\n",
       "      <td>11</td>\n",
       "    </tr>\n",
       "    <tr>\n",
       "      <th>7</th>\n",
       "      <td>00056535</td>\n",
       "      <td>8</td>\n",
       "      <td>2008-12-31</td>\n",
       "      <td>71</td>\n",
       "      <td>0,00</td>\n",
       "      <td>...</td>\n",
       "      <td>977.479,85</td>\n",
       "      <td>650</td>\n",
       "      <td>1</td>\n",
       "      <td>[1, 1, 1, 1]</td>\n",
       "      <td>4</td>\n",
       "    </tr>\n",
       "    <tr>\n",
       "      <th>8</th>\n",
       "      <td>00057284</td>\n",
       "      <td>2</td>\n",
       "      <td>2005-11-03</td>\n",
       "      <td>0</td>\n",
       "      <td>0,00</td>\n",
       "      <td>...</td>\n",
       "      <td>118.734,79</td>\n",
       "      <td>650</td>\n",
       "      <td>1</td>\n",
       "      <td>[0, 0, 0, 1]</td>\n",
       "      <td>4</td>\n",
       "    </tr>\n",
       "    <tr>\n",
       "      <th>22</th>\n",
       "      <td>00059015</td>\n",
       "      <td>2</td>\n",
       "      <td>2005-11-03</td>\n",
       "      <td>0</td>\n",
       "      <td>2.000.000,00</td>\n",
       "      <td>...</td>\n",
       "      <td>91.270,29</td>\n",
       "      <td>494</td>\n",
       "      <td>0</td>\n",
       "      <td>[1, 0, 0, 0]</td>\n",
       "      <td>4</td>\n",
       "    </tr>\n",
       "    <tr>\n",
       "      <th>26</th>\n",
       "      <td>00059966</td>\n",
       "      <td>4</td>\n",
       "      <td>2018-10-25</td>\n",
       "      <td>63</td>\n",
       "      <td>6.000.000,00</td>\n",
       "      <td>...</td>\n",
       "      <td>77.942,45</td>\n",
       "      <td>456</td>\n",
       "      <td>5</td>\n",
       "      <td>[0, 0, 0, 5]</td>\n",
       "      <td>4</td>\n",
       "    </tr>\n",
       "    <tr>\n",
       "      <th>...</th>\n",
       "      <td>...</td>\n",
       "      <td>...</td>\n",
       "      <td>...</td>\n",
       "      <td>...</td>\n",
       "      <td>...</td>\n",
       "      <td>...</td>\n",
       "      <td>...</td>\n",
       "      <td>...</td>\n",
       "      <td>...</td>\n",
       "      <td>...</td>\n",
       "      <td>...</td>\n",
       "    </tr>\n",
       "    <tr>\n",
       "      <th>144500</th>\n",
       "      <td>97530855</td>\n",
       "      <td>2</td>\n",
       "      <td>2011-07-08</td>\n",
       "      <td>0</td>\n",
       "      <td>3.000.000,00</td>\n",
       "      <td>...</td>\n",
       "      <td>15.648,40</td>\n",
       "      <td>510</td>\n",
       "      <td>1</td>\n",
       "      <td>[1, 1, 1, 1]</td>\n",
       "      <td>4</td>\n",
       "    </tr>\n",
       "    <tr>\n",
       "      <th>144506</th>\n",
       "      <td>97533625</td>\n",
       "      <td>2</td>\n",
       "      <td>2011-06-30</td>\n",
       "      <td>0</td>\n",
       "      <td>5.000.000,00</td>\n",
       "      <td>...</td>\n",
       "      <td>177.430,33</td>\n",
       "      <td>678</td>\n",
       "      <td>1</td>\n",
       "      <td>[0, 0, 1, 1, 1]</td>\n",
       "      <td>5</td>\n",
       "    </tr>\n",
       "    <tr>\n",
       "      <th>144507</th>\n",
       "      <td>97533689</td>\n",
       "      <td>2</td>\n",
       "      <td>2011-07-01</td>\n",
       "      <td>0</td>\n",
       "      <td>10.000.000,00</td>\n",
       "      <td>...</td>\n",
       "      <td>2.756.753,40</td>\n",
       "      <td>1236</td>\n",
       "      <td>2</td>\n",
       "      <td>[1, 1, 1, 1, 1, 2, 2, 2, 2, 2, 2]</td>\n",
       "      <td>11</td>\n",
       "    </tr>\n",
       "    <tr>\n",
       "      <th>144524</th>\n",
       "      <td>97536594</td>\n",
       "      <td>2</td>\n",
       "      <td>2011-07-12</td>\n",
       "      <td>0</td>\n",
       "      <td>1.000.000,00</td>\n",
       "      <td>...</td>\n",
       "      <td>513.515,71</td>\n",
       "      <td>900</td>\n",
       "      <td>1</td>\n",
       "      <td>[1, 1, 1, 1]</td>\n",
       "      <td>4</td>\n",
       "    </tr>\n",
       "    <tr>\n",
       "      <th>144560</th>\n",
       "      <td>97544290</td>\n",
       "      <td>2</td>\n",
       "      <td>2011-07-12</td>\n",
       "      <td>0</td>\n",
       "      <td>4.000.000,00</td>\n",
       "      <td>...</td>\n",
       "      <td>63.308,26</td>\n",
       "      <td>500</td>\n",
       "      <td>0</td>\n",
       "      <td>[0, 0, 0, 0]</td>\n",
       "      <td>4</td>\n",
       "    </tr>\n",
       "  </tbody>\n",
       "</table>\n",
       "<p>16939 rows × 16 columns</p>\n",
       "</div>"
      ],
      "text/plain": [
       "           CNPJ8  situacao data_situacao  motivo_situacao  capital_social  \\\n",
       "1       00002121         2    2018-10-15                0  580.000.000,00   \n",
       "7       00056535         8    2008-12-31               71            0,00   \n",
       "8       00057284         2    2005-11-03                0            0,00   \n",
       "22      00059015         2    2005-11-03                0    2.000.000,00   \n",
       "26      00059966         4    2018-10-25               63    6.000.000,00   \n",
       "...          ...       ...           ...              ...             ...   \n",
       "144500  97530855         2    2011-07-08                0    3.000.000,00   \n",
       "144506  97533625         2    2011-06-30                0    5.000.000,00   \n",
       "144507  97533689         2    2011-07-01                0   10.000.000,00   \n",
       "144524  97536594         2    2011-07-12                0    1.000.000,00   \n",
       "144560  97544290         2    2011-07-12                0    4.000.000,00   \n",
       "\n",
       "        ...     acumulado  score classe                            estados  \\\n",
       "1       ... 36.483.860,32   1650      3  [1, 1, 3, 3, 3, 3, 3, 3, 3, 3, 3]   \n",
       "7       ...    977.479,85    650      1                       [1, 1, 1, 1]   \n",
       "8       ...    118.734,79    650      1                       [0, 0, 0, 1]   \n",
       "22      ...     91.270,29    494      0                       [1, 0, 0, 0]   \n",
       "26      ...     77.942,45    456      5                       [0, 0, 0, 5]   \n",
       "...     ...           ...    ...    ...                                ...   \n",
       "144500  ...     15.648,40    510      1                       [1, 1, 1, 1]   \n",
       "144506  ...    177.430,33    678      1                    [0, 0, 1, 1, 1]   \n",
       "144507  ...  2.756.753,40   1236      2  [1, 1, 1, 1, 1, 2, 2, 2, 2, 2, 2]   \n",
       "144524  ...    513.515,71    900      1                       [1, 1, 1, 1]   \n",
       "144560  ...     63.308,26    500      0                       [0, 0, 0, 0]   \n",
       "\n",
       "       n_estados  \n",
       "1             11  \n",
       "7              4  \n",
       "8              4  \n",
       "22             4  \n",
       "26             4  \n",
       "...          ...  \n",
       "144500         4  \n",
       "144506         5  \n",
       "144507        11  \n",
       "144524         4  \n",
       "144560         4  \n",
       "\n",
       "[16939 rows x 16 columns]"
      ]
     },
     "execution_count": 73,
     "metadata": {},
     "output_type": "execute_result"
    }
   ],
   "source": [
    "dfc2.query(\"3 < n_estados < 20 \")"
   ]
  },
  {
   "cell_type": "code",
   "execution_count": 30,
   "metadata": {},
   "outputs": [
    {
     "name": "stdout",
     "output_type": "stream",
     "text": [
      "144604\n"
     ]
    },
    {
     "data": {
      "text/html": [
       "<div>\n",
       "<style scoped>\n",
       "    .dataframe tbody tr th:only-of-type {\n",
       "        vertical-align: middle;\n",
       "    }\n",
       "\n",
       "    .dataframe tbody tr th {\n",
       "        vertical-align: top;\n",
       "    }\n",
       "\n",
       "    .dataframe thead th {\n",
       "        text-align: right;\n",
       "    }\n",
       "</style>\n",
       "<table border=\"1\" class=\"dataframe\">\n",
       "  <thead>\n",
       "    <tr style=\"text-align: right;\">\n",
       "      <th></th>\n",
       "      <th>classe</th>\n",
       "      <th>Contribuintes</th>\n",
       "      <th>%</th>\n",
       "    </tr>\n",
       "  </thead>\n",
       "  <tbody>\n",
       "    <tr>\n",
       "      <th>0</th>\n",
       "      <td>0</td>\n",
       "      <td>81012</td>\n",
       "      <td>56,02</td>\n",
       "    </tr>\n",
       "    <tr>\n",
       "      <th>1</th>\n",
       "      <td>1</td>\n",
       "      <td>43590</td>\n",
       "      <td>30,14</td>\n",
       "    </tr>\n",
       "    <tr>\n",
       "      <th>2</th>\n",
       "      <td>2</td>\n",
       "      <td>2683</td>\n",
       "      <td>1,86</td>\n",
       "    </tr>\n",
       "    <tr>\n",
       "      <th>3</th>\n",
       "      <td>3</td>\n",
       "      <td>717</td>\n",
       "      <td>0,50</td>\n",
       "    </tr>\n",
       "    <tr>\n",
       "      <th>4</th>\n",
       "      <td>4</td>\n",
       "      <td>95</td>\n",
       "      <td>0,07</td>\n",
       "    </tr>\n",
       "    <tr>\n",
       "      <th>5</th>\n",
       "      <td>5</td>\n",
       "      <td>16507</td>\n",
       "      <td>11,42</td>\n",
       "    </tr>\n",
       "  </tbody>\n",
       "</table>\n",
       "</div>"
      ],
      "text/plain": [
       "   classe  Contribuintes     %\n",
       "0       0          81012 56,02\n",
       "1       1          43590 30,14\n",
       "2       2           2683  1,86\n",
       "3       3            717  0,50\n",
       "4       4             95  0,07\n",
       "5       5          16507 11,42"
      ]
     },
     "execution_count": 30,
     "metadata": {},
     "output_type": "execute_result"
    },
    {
     "data": {
      "image/png": "[encoded data removed]",
      "text/plain": [
       "<Figure size 640x360 with 1 Axes>"
      ]
     },
     "metadata": {
      "needs_background": "light"
     },
     "output_type": "display_data"
    }
   ],
   "source": [
    "dfg1=dfc2.groupby([dfc2.classe])[['n_estados']].count().reset_index()\n",
    "dfg1.rename(columns = {'n_estados': 'Contribuintes'}, inplace = True)\n",
    "dfg1['%'] = 100 * dfg1['Contribuintes'] / dfg1.Contribuintes.sum()\n",
    "print(dfg1.Contribuintes.sum())\n",
    "sns.catplot(x='classe', y=\"Contribuintes\", kind=\"bar\", palette=\"Set2\", data=dfg1, height=5, aspect=16/9)\n",
    "dfg1.sort_values(['Contribuintes'],ascending=False)\n",
    "dfg1"
   ]
  },
  {
   "cell_type": "code",
   "execution_count": 31,
   "metadata": {},
   "outputs": [
    {
     "name": "stdout",
     "output_type": "stream",
     "text": [
      "16939\n"
     ]
    },
    {
     "data": {
      "text/html": [
       "<div>\n",
       "<style scoped>\n",
       "    .dataframe tbody tr th:only-of-type {\n",
       "        vertical-align: middle;\n",
       "    }\n",
       "\n",
       "    .dataframe tbody tr th {\n",
       "        vertical-align: top;\n",
       "    }\n",
       "\n",
       "    .dataframe thead th {\n",
       "        text-align: right;\n",
       "    }\n",
       "</style>\n",
       "<table border=\"1\" class=\"dataframe\">\n",
       "  <thead>\n",
       "    <tr style=\"text-align: right;\">\n",
       "      <th></th>\n",
       "      <th>classe</th>\n",
       "      <th>Contribuintes</th>\n",
       "      <th>%</th>\n",
       "    </tr>\n",
       "  </thead>\n",
       "  <tbody>\n",
       "    <tr>\n",
       "      <th>0</th>\n",
       "      <td>0</td>\n",
       "      <td>3244</td>\n",
       "      <td>19,15</td>\n",
       "    </tr>\n",
       "    <tr>\n",
       "      <th>1</th>\n",
       "      <td>1</td>\n",
       "      <td>9376</td>\n",
       "      <td>55,35</td>\n",
       "    </tr>\n",
       "    <tr>\n",
       "      <th>2</th>\n",
       "      <td>2</td>\n",
       "      <td>1678</td>\n",
       "      <td>9,91</td>\n",
       "    </tr>\n",
       "    <tr>\n",
       "      <th>3</th>\n",
       "      <td>3</td>\n",
       "      <td>521</td>\n",
       "      <td>3,08</td>\n",
       "    </tr>\n",
       "    <tr>\n",
       "      <th>4</th>\n",
       "      <td>4</td>\n",
       "      <td>73</td>\n",
       "      <td>0,43</td>\n",
       "    </tr>\n",
       "    <tr>\n",
       "      <th>5</th>\n",
       "      <td>5</td>\n",
       "      <td>2047</td>\n",
       "      <td>12,08</td>\n",
       "    </tr>\n",
       "  </tbody>\n",
       "</table>\n",
       "</div>"
      ],
      "text/plain": [
       "   classe  Contribuintes     %\n",
       "0       0           3244 19,15\n",
       "1       1           9376 55,35\n",
       "2       2           1678  9,91\n",
       "3       3            521  3,08\n",
       "4       4             73  0,43\n",
       "5       5           2047 12,08"
      ]
     },
     "execution_count": 31,
     "metadata": {},
     "output_type": "execute_result"
    },
    {
     "data": {
      "image/png": "[encoded data removed]",
      "text/plain": [
       "<Figure size 640x360 with 1 Axes>"
      ]
     },
     "metadata": {
      "needs_background": "light"
     },
     "output_type": "display_data"
    }
   ],
   "source": [
    "dfg2=dfc2.query(\"3 < n_estados < 20\").groupby([dfc2.classe])[['n_estados']].count().reset_index()\n",
    "dfg2.rename(columns = {'n_estados': 'Contribuintes'}, inplace = True)\n",
    "dfg2['%'] = 100 * dfg2['Contribuintes'] / dfg2.Contribuintes.sum()\n",
    "print(dfg2.Contribuintes.sum())\n",
    "sns.catplot(x='classe', y=\"Contribuintes\", kind=\"bar\", palette=\"Set2\", data=dfg2, height=5, aspect=16/9)\n",
    "dfg2.sort_values(['Contribuintes'],ascending=False)\n",
    "dfg2"
   ]
  },
  {
   "cell_type": "code",
   "execution_count": 32,
   "metadata": {},
   "outputs": [
    {
     "data": {
      "text/plain": [
       "<seaborn.axisgrid.FacetGrid at 0x28f1d718588>"
      ]
     },
     "execution_count": 32,
     "metadata": {},
     "output_type": "execute_result"
    },
    {
     "data": {
      "image/png": "[encoded data removed]",
      "text/plain": [
       "<Figure size 761.725x360 with 1 Axes>"
      ]
     },
     "metadata": {
      "needs_background": "light"
     },
     "output_type": "display_data"
    }
   ],
   "source": [
    "dfg1[\"tipo\"]=\"Inicial\"\n",
    "dfg2[\"tipo\"]=\"UnderSampled\"\n",
    "dfg=pd.concat([dfg1,dfg2])\n",
    "sns.catplot(x='classe', y=\"%\", kind=\"bar\", hue=\"tipo\", palette=\"Set2\", data=dfg, height=5, aspect=16/9)"
   ]
  },
  {
   "cell_type": "code",
   "execution_count": 33,
   "metadata": {},
   "outputs": [],
   "source": [
    "#dfc3.query('situacao_desc == \"SUSPENSA\" & n_estados>2').sort_values(by=['CNPJ8'])"
   ]
  },
  {
   "cell_type": "markdown",
   "metadata": {},
   "source": [
    "### Undersampling"
   ]
  },
  {
   "cell_type": "code",
   "execution_count": 34,
   "metadata": {},
   "outputs": [],
   "source": [
    "dfc2 = pd.read_pickle(r'C:\\Users\\49026461534\\Documents\\_Pos Big Data\\TCC\\dfc2.pkl')"
   ]
  },
  {
   "cell_type": "code",
   "execution_count": 35,
   "metadata": {},
   "outputs": [
    {
     "name": "stdout",
     "output_type": "stream",
     "text": [
      "Número de contribuintes :  16939\n",
      "Número de estados totais:  98383\n"
     ]
    },
    {
     "data": {
      "text/html": [
       "<div>\n",
       "<style scoped>\n",
       "    .dataframe tbody tr th:only-of-type {\n",
       "        vertical-align: middle;\n",
       "    }\n",
       "\n",
       "    .dataframe tbody tr th {\n",
       "        vertical-align: top;\n",
       "    }\n",
       "\n",
       "    .dataframe thead th {\n",
       "        text-align: right;\n",
       "    }\n",
       "</style>\n",
       "<table border=\"1\" class=\"dataframe\">\n",
       "  <thead>\n",
       "    <tr style=\"text-align: right;\">\n",
       "      <th></th>\n",
       "      <th>index</th>\n",
       "      <th>CNPJ8</th>\n",
       "      <th>situacao</th>\n",
       "      <th>data_situacao</th>\n",
       "      <th>motivo_situacao</th>\n",
       "      <th>...</th>\n",
       "      <th>acumulado</th>\n",
       "      <th>score</th>\n",
       "      <th>classe</th>\n",
       "      <th>estados</th>\n",
       "      <th>n_estados</th>\n",
       "    </tr>\n",
       "  </thead>\n",
       "  <tbody>\n",
       "    <tr>\n",
       "      <th>0</th>\n",
       "      <td>1</td>\n",
       "      <td>00002121</td>\n",
       "      <td>2</td>\n",
       "      <td>2018-10-15</td>\n",
       "      <td>0</td>\n",
       "      <td>...</td>\n",
       "      <td>36.483.860,32</td>\n",
       "      <td>1650</td>\n",
       "      <td>3</td>\n",
       "      <td>[1, 1, 3, 3, 3, 3, 3, 3, 3, 3, 3]</td>\n",
       "      <td>11</td>\n",
       "    </tr>\n",
       "    <tr>\n",
       "      <th>1</th>\n",
       "      <td>7</td>\n",
       "      <td>00056535</td>\n",
       "      <td>8</td>\n",
       "      <td>2008-12-31</td>\n",
       "      <td>71</td>\n",
       "      <td>...</td>\n",
       "      <td>977.479,85</td>\n",
       "      <td>650</td>\n",
       "      <td>1</td>\n",
       "      <td>[1, 1, 1, 1]</td>\n",
       "      <td>4</td>\n",
       "    </tr>\n",
       "    <tr>\n",
       "      <th>2</th>\n",
       "      <td>8</td>\n",
       "      <td>00057284</td>\n",
       "      <td>2</td>\n",
       "      <td>2005-11-03</td>\n",
       "      <td>0</td>\n",
       "      <td>...</td>\n",
       "      <td>118.734,79</td>\n",
       "      <td>650</td>\n",
       "      <td>1</td>\n",
       "      <td>[0, 0, 0, 1]</td>\n",
       "      <td>4</td>\n",
       "    </tr>\n",
       "    <tr>\n",
       "      <th>3</th>\n",
       "      <td>22</td>\n",
       "      <td>00059015</td>\n",
       "      <td>2</td>\n",
       "      <td>2005-11-03</td>\n",
       "      <td>0</td>\n",
       "      <td>...</td>\n",
       "      <td>91.270,29</td>\n",
       "      <td>494</td>\n",
       "      <td>0</td>\n",
       "      <td>[1, 0, 0, 0]</td>\n",
       "      <td>4</td>\n",
       "    </tr>\n",
       "  </tbody>\n",
       "</table>\n",
       "<p>4 rows × 17 columns</p>\n",
       "</div>"
      ],
      "text/plain": [
       "   index     CNPJ8  situacao data_situacao  motivo_situacao  ...  \\\n",
       "0      1  00002121         2    2018-10-15                0  ...   \n",
       "1      7  00056535         8    2008-12-31               71  ...   \n",
       "2      8  00057284         2    2005-11-03                0  ...   \n",
       "3     22  00059015         2    2005-11-03                0  ...   \n",
       "\n",
       "      acumulado  score  classe                            estados n_estados  \n",
       "0 36.483.860,32   1650       3  [1, 1, 3, 3, 3, 3, 3, 3, 3, 3, 3]        11  \n",
       "1    977.479,85    650       1                       [1, 1, 1, 1]         4  \n",
       "2    118.734,79    650       1                       [0, 0, 0, 1]         4  \n",
       "3     91.270,29    494       0                       [1, 0, 0, 0]         4  \n",
       "\n",
       "[4 rows x 17 columns]"
      ]
     },
     "execution_count": 35,
     "metadata": {},
     "output_type": "execute_result"
    }
   ],
   "source": [
    "# O dataframe dfc3 contém os dados do contribuinte (VALOR, acumulado, etc) da ÚLTIMA classificação de risco de cada série\n",
    "# Esse dados serão utilizados para análise com o HmmLearn. Só é utilizada a coluna \"estados\" para predição\n",
    "dfc3 = dfc2.query(\"3 < n_estados < 20\").reset_index()\n",
    "n_dfc3 = dfc3.n_estados.sum()\n",
    "r_dfc3 = len(dfc3.index)\n",
    "print (\"Número de contribuintes : \", r_dfc3)\n",
    "print(\"Número de estados totais: \", n_dfc3)\n",
    "dfc3.head(4)"
   ]
  },
  {
   "cell_type": "code",
   "execution_count": 36,
   "metadata": {},
   "outputs": [
    {
     "name": "stdout",
     "output_type": "stream",
     "text": [
      "Número de estados totais:  16939\n"
     ]
    },
    {
     "data": {
      "text/html": [
       "<div>\n",
       "<style scoped>\n",
       "    .dataframe tbody tr th:only-of-type {\n",
       "        vertical-align: middle;\n",
       "    }\n",
       "\n",
       "    .dataframe tbody tr th {\n",
       "        vertical-align: top;\n",
       "    }\n",
       "\n",
       "    .dataframe thead th {\n",
       "        text-align: right;\n",
       "    }\n",
       "</style>\n",
       "<table border=\"1\" class=\"dataframe\">\n",
       "  <thead>\n",
       "    <tr style=\"text-align: right;\">\n",
       "      <th></th>\n",
       "      <th>CNPJ8</th>\n",
       "      <th>situacao</th>\n",
       "      <th>data_situacao</th>\n",
       "      <th>motivo_situacao</th>\n",
       "      <th>capital_social</th>\n",
       "      <th>...</th>\n",
       "      <th>VALOR</th>\n",
       "      <th>acumulado</th>\n",
       "      <th>score</th>\n",
       "      <th>estados</th>\n",
       "      <th>n_estados</th>\n",
       "    </tr>\n",
       "  </thead>\n",
       "  <tbody>\n",
       "    <tr>\n",
       "      <th>0</th>\n",
       "      <td>00002121</td>\n",
       "      <td>2</td>\n",
       "      <td>2018-10-15</td>\n",
       "      <td>0</td>\n",
       "      <td>580.000.000,00</td>\n",
       "      <td>...</td>\n",
       "      <td>554.594,72</td>\n",
       "      <td>36.481.198,84</td>\n",
       "      <td>1650</td>\n",
       "      <td>[1, 1, 3, 3, 3, 3, 3, 3, 3, 3, 3]</td>\n",
       "      <td>11</td>\n",
       "    </tr>\n",
       "    <tr>\n",
       "      <th>1</th>\n",
       "      <td>00056535</td>\n",
       "      <td>8</td>\n",
       "      <td>2008-12-31</td>\n",
       "      <td>71</td>\n",
       "      <td>0,00</td>\n",
       "      <td>...</td>\n",
       "      <td>152.948,35</td>\n",
       "      <td>566.581,47</td>\n",
       "      <td>650</td>\n",
       "      <td>[1, 1, 1, 1]</td>\n",
       "      <td>4</td>\n",
       "    </tr>\n",
       "    <tr>\n",
       "      <th>2</th>\n",
       "      <td>00057284</td>\n",
       "      <td>2</td>\n",
       "      <td>2005-11-03</td>\n",
       "      <td>0</td>\n",
       "      <td>0,00</td>\n",
       "      <td>...</td>\n",
       "      <td>295,00</td>\n",
       "      <td>61.569,14</td>\n",
       "      <td>450</td>\n",
       "      <td>[0, 0, 0, 1]</td>\n",
       "      <td>4</td>\n",
       "    </tr>\n",
       "    <tr>\n",
       "      <th>3</th>\n",
       "      <td>00059015</td>\n",
       "      <td>2</td>\n",
       "      <td>2005-11-03</td>\n",
       "      <td>0</td>\n",
       "      <td>2.000.000,00</td>\n",
       "      <td>...</td>\n",
       "      <td>10.195,56</td>\n",
       "      <td>13.015,44</td>\n",
       "      <td>459</td>\n",
       "      <td>[1, 0, 0, 0]</td>\n",
       "      <td>4</td>\n",
       "    </tr>\n",
       "    <tr>\n",
       "      <th>4</th>\n",
       "      <td>00059966</td>\n",
       "      <td>4</td>\n",
       "      <td>2018-10-25</td>\n",
       "      <td>63</td>\n",
       "      <td>6.000.000,00</td>\n",
       "      <td>...</td>\n",
       "      <td>3.447,42</td>\n",
       "      <td>74.775,28</td>\n",
       "      <td>454</td>\n",
       "      <td>[0, 0, 0, 5]</td>\n",
       "      <td>4</td>\n",
       "    </tr>\n",
       "  </tbody>\n",
       "</table>\n",
       "<p>5 rows × 16 columns</p>\n",
       "</div>"
      ],
      "text/plain": [
       "      CNPJ8  situacao data_situacao  motivo_situacao  capital_social  ...  \\\n",
       "0  00002121         2    2018-10-15                0  580.000.000,00  ...   \n",
       "1  00056535         8    2008-12-31               71            0,00  ...   \n",
       "2  00057284         2    2005-11-03                0            0,00  ...   \n",
       "3  00059015         2    2005-11-03                0    2.000.000,00  ...   \n",
       "4  00059966         4    2018-10-25               63    6.000.000,00  ...   \n",
       "\n",
       "       VALOR     acumulado score                            estados  n_estados  \n",
       "0 554.594,72 36.481.198,84  1650  [1, 1, 3, 3, 3, 3, 3, 3, 3, 3, 3]         11  \n",
       "1 152.948,35    566.581,47   650                       [1, 1, 1, 1]          4  \n",
       "2     295,00     61.569,14   450                       [0, 0, 0, 1]          4  \n",
       "3  10.195,56     13.015,44   459                       [1, 0, 0, 0]          4  \n",
       "4   3.447,42     74.775,28   454                       [0, 0, 0, 5]          4  \n",
       "\n",
       "[5 rows x 16 columns]"
      ]
     },
     "execution_count": 36,
     "metadata": {},
     "output_type": "execute_result"
    }
   ],
   "source": [
    "# O dataframe dfc4 contém os dados do contribuinte (VALOR, acumulado, etc) da PENÚLTIMA classificação de risco de cada série\n",
    "# Esse dados serão utilizados para análise com o PyCaret\n",
    "dfd3 = dfd2.groupby(['CNPJ8'])[['DATA_INSCRICAO','VALOR','acumulado','score']].nth(-2).reset_index()\n",
    "dfd3 = pd.merge(dfc3[[\"CNPJ8\",\"classe\"]], dfd3, how='left', on='CNPJ8')\n",
    "m = r'C:\\Users\\49026461534\\Documents\\_Pos Big Data\\TCC\\DominiosSituaoCadastral.xls'\n",
    "s= r'C:\\Users\\49026461534\\Documents\\_Pos Big Data\\TCC\\DominiosSituaoCadastral.xls'\n",
    "dfm = pd.read_excel (m, sheet_name='DominiosMotivoSituaoCadastral', converters={'codigo':int})\n",
    "dfs = pd.read_excel (s, sheet_name='DominioSituacaoCadastral', converters={'codigo':int})\n",
    "dfc4 = pd.merge(dfc3[\"CNPJ8\"], dfc, how='left', on='CNPJ8')\n",
    "dfc4 = pd.merge(dfc4, dfm, how='left', on='motivo_situacao')\n",
    "dfc4= pd.merge(dfc4, dfs, how='left', on='situacao')\n",
    "dfc4 = pd.merge(dfc4, dfd3, how='left', on='CNPJ8')\n",
    "dfc4 = pd.merge(dfc4, dfe, how='left', on='CNPJ8')\n",
    "dfc4[\"n_estados\"]=dfc4.apply(lambda x: len(x.estados), axis=1)\n",
    "del dfm, dfs, dfd3\n",
    "print(\"Número de estados totais: \",dfc4.CNPJ8.count())\n",
    "dfc4.head(5)"
   ]
  },
  {
   "cell_type": "code",
   "execution_count": 37,
   "metadata": {},
   "outputs": [],
   "source": [
    "dfc3.to_pickle(r'C:\\Users\\49026461534\\Documents\\_Pos Big Data\\TCC\\dfc3.pkl')\n",
    "dfc4.to_pickle(r'C:\\Users\\49026461534\\Documents\\_Pos Big Data\\TCC\\dfc4.pkl')"
   ]
  },
  {
   "cell_type": "markdown",
   "metadata": {},
   "source": [
    "### Geração Modelo HMM para Previsão de Risco"
   ]
  },
  {
   "cell_type": "code",
   "execution_count": 38,
   "metadata": {},
   "outputs": [
    {
     "name": "stdout",
     "output_type": "stream",
     "text": [
      "Tamanho da base de treinamento (estados):  81444\n",
      "MATRIZ ESTADO INICIAL:\n",
      "[0.00000000e+000 0.00000000e+000 2.12440994e-167 1.00000000e+000]\n",
      "MATRIZ DE TRANSIÇÃO:\n",
      "[[0.72216678 0.00899596 0.00570418 0.26313308]\n",
      " [0.13058032 0.78147186 0.0125187  0.07542912]\n",
      " [0.27124711 0.00449575 0.58810314 0.136154  ]\n",
      " [0.15080342 0.04645387 0.01049971 0.79224299]]\n",
      "MATRIZ DE PROBABILIDADE DE EMISSÃO:\n",
      "[[9.99993018e-01 2.20499655e-08 1.21370009e-26 1.85651766e-34\n",
      "  2.30856169e-85 6.96036291e-06]\n",
      " [1.45889668e-03 6.56827004e-04 7.51805833e-01 2.20143706e-01\n",
      "  2.59347379e-02 8.66704304e-25]\n",
      " [2.31928485e-04 9.37005733e-07 1.98055440e-24 3.26898141e-42\n",
      "  1.37060848e-78 9.99767135e-01]\n",
      " [1.17946184e-04 9.96626815e-01 7.10630341e-11 2.66506322e-49\n",
      "  1.46935826e-88 3.25523830e-03]]\n",
      "PROBABILIDADE LOG SOB O MODELO:\n",
      "-61850.91300305817\n"
     ]
    }
   ],
   "source": [
    "import sklearn\n",
    "from hmmlearn import hmm\n",
    "from hmmlearn.hmm import MultinomialHMM\n",
    "# Definido o número de estados ocultos como 4\n",
    "states = [\"K\", \"L\",\"M\",\"N\"] \n",
    "n_states = len(states)\n",
    "#Definido o número de observações como 6, correpondentes as classificações de risco de 0 a 5\n",
    "observations = [\"A\", \"B\", \"C\", \"D\", \"E\", \"F\"]\n",
    "n_observations = len(observations)\n",
    "model = hmm.MultinomialHMM(n_components=n_states, n_iter=5000, tol=0.01)\n",
    "\n",
    "# Exemplo de formatação de dados de treinamento\n",
    "#D1 = [[1], [0], [0], [0], [1], [1], [1]]\n",
    "#D2 = [[1], [0], [0], [0], [1], [1], [1], [0], [1], [1]]\n",
    "#D3 = [[1], [0], [0]]\n",
    "#X = np.concatenate([D1, D2, D3])\n",
    "\n",
    "# dfc3[\"estados\"][j][:-1] exclui o estado final para treinamento\n",
    "X = np.concatenate([[[i] for i in dfc3[\"estados\"][j][:-1]] for j in range(r_dfc3)])\n",
    "print(\"Tamanho da base de treinamento (estados): \", X.size)\n",
    "\n",
    "#Treinamento\n",
    "model.fit(X)\n",
    "\n",
    "#Matrizes do modelo treinado\n",
    "print('MATRIZ ESTADO INICIAL:')\n",
    "print (model.startprob_)\n",
    "print('MATRIZ DE TRANSIÇÃO:')\n",
    "print (model.transmat_)\n",
    "print('MATRIZ DE PROBABILIDADE DE EMISSÃO:')\n",
    "print (model.emissionprob_)\n",
    "print('PROBABILIDADE LOG SOB O MODELO:')\n",
    "print (model.score(X))"
   ]
  },
  {
   "cell_type": "code",
   "execution_count": 39,
   "metadata": {},
   "outputs": [
    {
     "name": "stdout",
     "output_type": "stream",
     "text": [
      "16939\n"
     ]
    },
    {
     "data": {
      "text/plain": [
       "array([3, 1, 1, ..., 2, 1, 0])"
      ]
     },
     "execution_count": 39,
     "metadata": {},
     "output_type": "execute_result"
    }
   ],
   "source": [
    "Yt = np.concatenate([[dfc3[\"estados\"][j][-1]] for j in range(r_dfc3)])\n",
    "n_Yt=len(Yt)\n",
    "print(n_Yt)\n",
    "Yt"
   ]
  },
  {
   "cell_type": "code",
   "execution_count": 40,
   "metadata": {},
   "outputs": [
    {
     "name": "stdout",
     "output_type": "stream",
     "text": [
      "16939\n"
     ]
    },
    {
     "data": {
      "text/plain": [
       "array([1, 1, 0, ..., 2, 1, 0], dtype=int64)"
      ]
     },
     "execution_count": 40,
     "metadata": {},
     "output_type": "execute_result"
    }
   ],
   "source": [
    "# Previsões do Modelo HMM para base de contribuintes reduzida após undersampling\n",
    "from sklearn.utils import check_random_state\n",
    "# função para previsão de observação \n",
    "# prever1-> com problema por causa da indisponibilidade nesta versão hmmlearn de indicar o currstate\n",
    "def prever1(x):\n",
    " y,z = model.sample(1,x[0][-2])\n",
    " return   y[0]\n",
    "\n",
    "# prever2-> gera previsão do próximo estado observável\n",
    "def prever2(x):\n",
    "    states = model.predict(x)\n",
    "    transmat_cdf = np.cumsum(model.transmat_, axis=1)\n",
    "    random_state = check_random_state(model.random_state)\n",
    "    next_state = (transmat_cdf[states[-1]] > random_state.rand()).argmax()\n",
    "    next_obs = model._generate_sample_from_state(next_state, random_state)\n",
    "    return next_obs\n",
    "\n",
    "# Previsão dos estados observáveis\n",
    "# observe que são fornecidos ao modelo os estados exceto o último, que será utilizado no teste\n",
    "Yp = np.concatenate([prever2([dfc3[\"estados\"][j][:-1]]) for j in range(r_dfc3)])\n",
    "\n",
    "# Estados Ocultos previstos para a última classificação\n",
    "Zp = np.concatenate([[model.predict([dfc3[\"estados\"][j][:-1]])[-1]] for j in range(r_dfc3)])\n",
    "n_Yp=len(Yp)\n",
    "print(n_Yp)\n",
    "Yp"
   ]
  },
  {
   "cell_type": "code",
   "execution_count": null,
   "metadata": {},
   "outputs": [],
   "source": []
  },
  {
   "cell_type": "markdown",
   "metadata": {},
   "source": [
    "### Análise de Resultados do Modelo HMM"
   ]
  },
  {
   "cell_type": "code",
   "execution_count": 93,
   "metadata": {},
   "outputs": [
    {
     "name": "stdout",
     "output_type": "stream",
     "text": [
      "Acurácia:  0.6354566385264774\n",
      "Precisão:  [0.46325879 0.76704046 0.5357591  0.17755102 0.01612903 0.76197388]\n",
      "F1      :  [0.56228793 0.7554136  0.52200489 0.17210682 0.01481481 0.38377193]\n",
      "Recall  :  [0.71516646 0.74413396 0.50893921 0.16698656 0.01369863 0.25647289]\n"
     ]
    },
    {
     "data": {
      "text/plain": [
       "[Text(0.5, 1.0, 'Mapa de Calor para HMM - dfc3'),\n",
       " Text(0.5, 24.0, 'Classes Previstas'),\n",
       " Text(69.0, 0.5, 'Classes Verdadeiras')]"
      ]
     },
     "execution_count": 93,
     "metadata": {},
     "output_type": "execute_result"
    },
    {
     "data": {
      "image/png": "[encoded data removed]",
      "text/plain": [
       "<Figure size 720x360 with 2 Axes>"
      ]
     },
     "metadata": {
      "needs_background": "light"
     },
     "output_type": "display_data"
    }
   ],
   "source": [
    "# Análise de Resultados para o modelo HMM para a base com undersampling\n",
    "from sklearn.metrics import classification_report, confusion_matrix, plot_roc_curve\n",
    "from sklearn.metrics import accuracy_score, precision_score, f1_score, recall_score\n",
    "cf_matrix = confusion_matrix(Yt, Yp)\n",
    "plt.figure(figsize=(10,5))\n",
    "acuracia=accuracy_score(Yt, Yp, normalize=True, sample_weight=None)\n",
    "precisao = precision_score(Yt, Yp, average=None, zero_division='warn')\n",
    "f1 = f1_score(Yt, Yp, average=None, zero_division='warn')\n",
    "recall = recall_score(Yt, Yp, average=None, zero_division='warn')\n",
    "print(\"Acurácia: \", acuracia)\n",
    "print(\"Precisão: \",precisao)\n",
    "print(\"F1      : \",f1)\n",
    "print(\"Recall  : \",recall)\n",
    "hm=sns.heatmap(cf_matrix, linewidths=1, annot=True, fmt='g', cmap='Blues')\n",
    "hm.set(title=\"Mapa de Calor para HMM - dfc3\", xlabel=\"Classes Previstas\", ylabel=\"Classes Verdadeiras\")"
   ]
  },
  {
   "cell_type": "code",
   "execution_count": 42,
   "metadata": {},
   "outputs": [
    {
     "name": "stdout",
     "output_type": "stream",
     "text": [
      "59571\n",
      "Acurácia:  0.4970203622568028\n",
      "Precisão:  [0.52078686 0.50944844 0.30771704 0.0964247  0.         0.60244845]\n",
      "F1      :  [0.41562365 0.6084009  0.35125711 0.11209068 0.         0.19967966]\n",
      "Recall  :  [0.34579649 0.7550595  0.40914921 0.13383459 0.         0.11967234]\n"
     ]
    },
    {
     "data": {
      "text/plain": [
       "[Text(0.5, 1.0, 'Mapa de Calor para HMM - dfcT'),\n",
       " Text(0.5, 24.0, 'Classes Previstas'),\n",
       " Text(69.0, 0.5, 'Classes Verdadeiras')]"
      ]
     },
     "execution_count": 42,
     "metadata": {},
     "output_type": "execute_result"
    },
    {
     "data": {
      "image/png": "[encoded data removed]",
      "text/plain": [
       "<Figure size 720x360 with 2 Axes>"
      ]
     },
     "metadata": {
      "needs_background": "light"
     },
     "output_type": "display_data"
    }
   ],
   "source": [
    "# Previsão e Análise de Resultados para o modelo HMM para a base geral com pelo menos 2 estados\n",
    "dfcT = dfc2.query(\"1 < n_estados\").reset_index()\n",
    "r_dfcT = len(dfcT.index)\n",
    "print(r_dfcT)\n",
    "Yp2 = np.concatenate([prever2([dfcT[\"estados\"][j][:-1]]) for j in range(r_dfcT)])\n",
    "Yt2 = np.concatenate([[dfcT[\"estados\"][j][-1]] for j in range(r_dfcT)])\n",
    "cf_matrix = confusion_matrix(Yt2, Yp2)\n",
    "plt.figure(figsize=(10,5))\n",
    "acuracia=accuracy_score(Yt2, Yp2, normalize=True, sample_weight=None)\n",
    "precisao = precision_score(Yt2, Yp2, average=None, zero_division='warn')\n",
    "f1 = f1_score(Yt2, Yp2, average=None, zero_division='warn')\n",
    "recall = recall_score(Yt2, Yp2, average=None, zero_division='warn')\n",
    "print(\"Acurácia: \", acuracia)\n",
    "print(\"Precisão: \",precisao)\n",
    "print(\"F1      : \",f1)\n",
    "print(\"Recall  : \",recall)\n",
    "hm=sns.heatmap(cf_matrix, linewidths=1, annot=True, fmt='g', cmap='Greens')\n",
    "hm.set(title=\"Mapa de Calor para HMM - dfcT\", xlabel=\"Classes Previstas\", ylabel=\"Classes Verdadeiras\")"
   ]
  },
  {
   "cell_type": "code",
   "execution_count": 43,
   "metadata": {},
   "outputs": [
    {
     "data": {
      "text/plain": [
       "array([[ 7704, 13515,   587,   177,    19,   277],\n",
       "       [ 5038, 19923,   846,   250,    25,   304],\n",
       "       [  336,   686,   957,   302,    30,    28],\n",
       "       [   89,   101,   371,    89,     8,     7],\n",
       "       [   15,    15,    42,    16,     0,     1],\n",
       "       [ 1611,  4867,   307,    89,     4,   935]], dtype=int64)"
      ]
     },
     "execution_count": 43,
     "metadata": {},
     "output_type": "execute_result"
    }
   ],
   "source": [
    "cf_matrix"
   ]
  },
  {
   "cell_type": "code",
   "execution_count": 94,
   "metadata": {},
   "outputs": [
    {
     "ename": "TypeError",
     "evalue": "plot_roc_curve() missing 1 required positional argument: 'y'",
     "output_type": "error",
     "traceback": [
      "\u001b[1;31m---------------------------------------------------------------------------\u001b[0m",
      "\u001b[1;31mTypeError\u001b[0m                                 Traceback (most recent call last)",
      "\u001b[1;32m<ipython-input-94-bbd43c9160cf>\u001b[0m in \u001b[0;36m<module>\u001b[1;34m\u001b[0m\n\u001b[1;32m----> 1\u001b[1;33m \u001b[0mplot_roc_curve\u001b[0m\u001b[1;33m(\u001b[0m\u001b[0mYt\u001b[0m\u001b[1;33m,\u001b[0m \u001b[0mYp\u001b[0m\u001b[1;33m)\u001b[0m\u001b[1;33m\u001b[0m\u001b[1;33m\u001b[0m\u001b[0m\n\u001b[0m",
      "\u001b[1;32m~\\AppData\\Roaming\\Python\\Python36\\site-packages\\sklearn\\utils\\validation.py\u001b[0m in \u001b[0;36minner_f\u001b[1;34m(*args, **kwargs)\u001b[0m\n\u001b[0;32m     70\u001b[0m                           FutureWarning)\n\u001b[0;32m     71\u001b[0m         \u001b[0mkwargs\u001b[0m\u001b[1;33m.\u001b[0m\u001b[0mupdate\u001b[0m\u001b[1;33m(\u001b[0m\u001b[1;33m{\u001b[0m\u001b[0mk\u001b[0m\u001b[1;33m:\u001b[0m \u001b[0marg\u001b[0m \u001b[1;32mfor\u001b[0m \u001b[0mk\u001b[0m\u001b[1;33m,\u001b[0m \u001b[0marg\u001b[0m \u001b[1;32min\u001b[0m \u001b[0mzip\u001b[0m\u001b[1;33m(\u001b[0m\u001b[0msig\u001b[0m\u001b[1;33m.\u001b[0m\u001b[0mparameters\u001b[0m\u001b[1;33m,\u001b[0m \u001b[0margs\u001b[0m\u001b[1;33m)\u001b[0m\u001b[1;33m}\u001b[0m\u001b[1;33m)\u001b[0m\u001b[1;33m\u001b[0m\u001b[1;33m\u001b[0m\u001b[0m\n\u001b[1;32m---> 72\u001b[1;33m         \u001b[1;32mreturn\u001b[0m \u001b[0mf\u001b[0m\u001b[1;33m(\u001b[0m\u001b[1;33m**\u001b[0m\u001b[0mkwargs\u001b[0m\u001b[1;33m)\u001b[0m\u001b[1;33m\u001b[0m\u001b[1;33m\u001b[0m\u001b[0m\n\u001b[0m\u001b[0;32m     73\u001b[0m     \u001b[1;32mreturn\u001b[0m \u001b[0minner_f\u001b[0m\u001b[1;33m\u001b[0m\u001b[1;33m\u001b[0m\u001b[0m\n\u001b[0;32m     74\u001b[0m \u001b[1;33m\u001b[0m\u001b[0m\n",
      "\u001b[1;31mTypeError\u001b[0m: plot_roc_curve() missing 1 required positional argument: 'y'"
     ]
    }
   ],
   "source": [
    "Yprob=\n",
    "plot_roc_curve(Yt, Yprob)"
   ]
  },
  {
   "cell_type": "code",
   "execution_count": 44,
   "metadata": {},
   "outputs": [
    {
     "data": {
      "text/plain": [
       "[Text(0.5, 1.0, 'Mapa de Calor para Estados Ocultos'),\n",
       " Text(0.5, 24.0, 'Classes Previstas'),\n",
       " Text(69.0, 0.5, 'Estados Ocultos')]"
      ]
     },
     "execution_count": 44,
     "metadata": {},
     "output_type": "execute_result"
    },
    {
     "data": {
      "image/png": "[encoded data removed]",
      "text/plain": [
       "<Figure size 720x360 with 2 Axes>"
      ]
     },
     "metadata": {
      "needs_background": "light"
     },
     "output_type": "display_data"
    }
   ],
   "source": [
    "#Utilização da Matriz de Confusão para identificar Estado oculto de \"Decidiu não Cumprir\"\n",
    "#Como o que tem maior frequência de Classe de Risco 5 - Relacionando com a situação cadastra\n",
    "cf_matrix = confusion_matrix(Zp, Yp)\n",
    "plt.figure(figsize=(10,5))\n",
    "hm=sns.heatmap(cf_matrix, linewidths=1, annot=True, fmt='g', cmap='Set2')\n",
    "hm.set(title=\"Mapa de Calor para Estados Ocultos\", xlabel=\"Classes Previstas\", ylabel=\"Estados Ocultos\")"
   ]
  },
  {
   "cell_type": "code",
   "execution_count": 45,
   "metadata": {},
   "outputs": [
    {
     "name": "stdout",
     "output_type": "stream",
     "text": [
      "0.7.0\n"
     ]
    }
   ],
   "source": [
    "# check version number\n",
    "import imblearn\n",
    "from imblearn.over_sampling import RandomOverSampler\n",
    "print(imblearn.__version__)\n",
    "oversample = RandomOverSampler(sampling_strategy='minority')"
   ]
  },
  {
   "cell_type": "code",
   "execution_count": 46,
   "metadata": {},
   "outputs": [],
   "source": [
    "Y = [[i] for i in dfc3[\"estados\"][10622]]\n",
    "n_Y = len(Y)"
   ]
  },
  {
   "cell_type": "code",
   "execution_count": 47,
   "metadata": {},
   "outputs": [
    {
     "data": {
      "text/plain": [
       "[[1], [2], [2]]"
      ]
     },
     "execution_count": 47,
     "metadata": {},
     "output_type": "execute_result"
    }
   ],
   "source": [
    "Y[:-1]"
   ]
  },
  {
   "cell_type": "code",
   "execution_count": 48,
   "metadata": {},
   "outputs": [
    {
     "data": {
      "text/plain": [
       "(array([[1]], dtype=int64), array([3]))"
      ]
     },
     "execution_count": 48,
     "metadata": {},
     "output_type": "execute_result"
    }
   ],
   "source": [
    "from sklearn.utils import check_random_state\n",
    "states = model.predict(Y[:-1])\n",
    "#transmat_cdf = np.cumsum(model.transmat_, axis=1)\n",
    "#random_state = check_random_state(model.random_state)\n",
    "#next_state = (transmat_cdf[states[-1]] > random_state.rand()).argmax()\n",
    "#next_obs = model._generate_sample_from_state(next_state, random_state)\n",
    "#next_obs\n",
    "r=model.sample(1,Y[-1][0])\n",
    "r"
   ]
  },
  {
   "cell_type": "code",
   "execution_count": 49,
   "metadata": {},
   "outputs": [
    {
     "data": {
      "text/plain": [
       "array([3, 1, 1])"
      ]
     },
     "execution_count": 49,
     "metadata": {},
     "output_type": "execute_result"
    }
   ],
   "source": [
    "states"
   ]
  },
  {
   "cell_type": "code",
   "execution_count": 50,
   "metadata": {},
   "outputs": [
    {
     "data": {
      "text/plain": [
       "(-4.421658169572388, array([3, 1, 1, 1]))"
      ]
     },
     "execution_count": 50,
     "metadata": {},
     "output_type": "execute_result"
    }
   ],
   "source": [
    "model.decode(Y, lengths=n_Y, algorithm=\"viterbi\")"
   ]
  },
  {
   "cell_type": "code",
   "execution_count": 51,
   "metadata": {},
   "outputs": [],
   "source": [
    "#dfc2.query('situacao_desc == \"SUSPENSA\" & n_estados>7 ').sort_values(by=['n_estados'])"
   ]
  },
  {
   "cell_type": "code",
   "execution_count": 79,
   "metadata": {},
   "outputs": [
    {
     "name": "stdout",
     "output_type": "stream",
     "text": [
      "<class 'pandas.core.frame.DataFrame'>\n",
      "RangeIndex: 144604 entries, 0 to 144603\n",
      "Data columns (total 2 columns):\n",
      " #   Column   Non-Null Count   Dtype \n",
      "---  ------   --------------   ----- \n",
      " 0   CNPJ8    144604 non-null  object\n",
      " 1   estados  144604 non-null  object\n",
      "dtypes: object(2)\n",
      "memory usage: 2.2+ MB\n"
     ]
    }
   ],
   "source": [
    "dfe.info()"
   ]
  },
  {
   "cell_type": "code",
   "execution_count": null,
   "metadata": {},
   "outputs": [],
   "source": []
  }
 ],
 "metadata": {
  "kernelspec": {
   "display_name": "Python 3",
   "language": "python",
   "name": "python3"
  },
  "language_info": {
   "codemirror_mode": {
    "name": "ipython",
    "version": 3
   },
   "file_extension": ".py",
   "mimetype": "text/x-python",
   "name": "python",
   "nbconvert_exporter": "python",
   "pygments_lexer": "ipython3",
   "version": "3.6.13"
  }
 },
 "nbformat": 4,
 "nbformat_minor": 4
}
